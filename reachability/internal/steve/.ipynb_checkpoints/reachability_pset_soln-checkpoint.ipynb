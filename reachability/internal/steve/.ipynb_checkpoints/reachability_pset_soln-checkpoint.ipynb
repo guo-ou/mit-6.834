{
 "cells": [
  {
   "cell_type": "code",
   "execution_count": null,
   "metadata": {
    "collapsed": false
   },
   "outputs": [],
   "source": [
    "%matplotlib inline\n",
    "from __future__ import division\n",
    "import math; import numpy as np\n",
    "import matplotlib as mpl; import matplotlib.pyplot as plt\n",
    "import reach_tests as tests; from classes import *"
   ]
  },
  {
   "cell_type": "markdown",
   "metadata": {},
   "source": [
    "# Problem Set - Reachability\n",
    "\n",
    "In this mini pset, you will implement functions to compute reachability to help a flying plane navigate through forest of trees.  First you'll learn about the data structures used by the algorithm, then you'll implement some helper functions, and finally you'll combine them to identify all possible collisions as a plane flies through the forest.\n",
    "\n",
    "Throughout the pset, we provide a visualization of reachable states and obstacles that may occupy them. Blue means state, green means obstacle, and red means a collision of state with obstacle. Below is a map of the area at t=0: There are three trees, and you are initially located at 2,2. Obstacles and states that appear outside the boundaries are not displayed, but your algorithms should still handle them. \n",
    "\n",
    "\n"
   ]
  },
  {
   "cell_type": "code",
   "execution_count": null,
   "metadata": {
    "collapsed": false
   },
   "outputs": [],
   "source": [
    "tests.draw_init_map()"
   ]
  },
  {
   "cell_type": "markdown",
   "metadata": {},
   "source": [
    "To begin, we'll introduce the provided data structures. Please read and run the examples below, making sure that you understand the code and that there are no errors.\n",
    "\n",
    "There are two main classes to work with: states and obstacles. States have a location x,y (accessible via state.x and state.y), and obstacles have a name and a list of states they occupy (obstacle.name, obstacle.states)."
   ]
  },
  {
   "cell_type": "code",
   "execution_count": null,
   "metadata": {
    "collapsed": false
   },
   "outputs": [],
   "source": [
    "# A get-to-know-me state\n",
    "my_state = state(1,2)\n",
    "print my_state\n",
    "print my_state.x\n",
    "print my_state.y"
   ]
  },
  {
   "cell_type": "code",
   "execution_count": null,
   "metadata": {
    "collapsed": false
   },
   "outputs": [],
   "source": [
    "# A get-to-know-me obstacle\n",
    "my_ob = obstacle(\"tree\",[state(1,1),state(1,2)])\n",
    "print my_ob\n",
    "print my_ob.name\n",
    "print my_ob.states"
   ]
  },
  {
   "cell_type": "markdown",
   "metadata": {},
   "source": [
    "## Reachability Function\n",
    "\n",
    "Your first task is to write the reachable function. Given some start state, return a list of possible states to be in after one time step.\n",
    "\n",
    "<br/>\n",
    "<div class=\"alert alert-info\">\n",
    "Please implement the following function.\n",
    "</div>"
   ]
  },
  {
   "cell_type": "code",
   "execution_count": null,
   "metadata": {
    "collapsed": false
   },
   "outputs": [],
   "source": [
    "def reachable(start_state):\n",
    "    x=start_state.x\n",
    "    y=start_state.y\n",
    "    reachable = [state(x,y+1),state(x,y+2),state(x,y+3),state(x+1,y),state(x-1,y),state(x,y-1)]\n",
    "    return reachable\n",
    "    # raise NotImplementedException(\"Whoops, forgot to implement this!\")"
   ]
  },
  {
   "cell_type": "markdown",
   "metadata": {},
   "source": [
    "Now, let's visualize this:"
   ]
  },
  {
   "cell_type": "code",
   "execution_count": null,
   "metadata": {
    "collapsed": false
   },
   "outputs": [],
   "source": [
    "tests.graph_states(reachable(state(2,2)))"
   ]
  },
  {
   "cell_type": "markdown",
   "metadata": {},
   "source": [
    "## Reachable States after Several Timesteps\n",
    "\n",
    "Next, find all the reachable states after *steps* timesteps. \n",
    "\n",
    "<br/>\n",
    "<div class=\"alert alert-info\">\n",
    "Please implement the following function.\n",
    "</div>"
   ]
  },
  {
   "cell_type": "code",
   "execution_count": null,
   "metadata": {
    "collapsed": false
   },
   "outputs": [],
   "source": [
    "def get_reachable_by_step(states,steps):\n",
    "    states = states\n",
    "    for step in range(steps):\n",
    "        for state in states:\n",
    "            states = list(set(states + reachable(state)))\n",
    "    return states\n",
    "    # raise NotImplementedException(\"Whoops, forgot to implement this!\")"
   ]
  },
  {
   "cell_type": "markdown",
   "metadata": {},
   "source": [
    "Let's see if it passes the tests:"
   ]
  },
  {
   "cell_type": "code",
   "execution_count": null,
   "metadata": {
    "collapsed": false
   },
   "outputs": [],
   "source": [
    "tests.graph_states(get_reachable_by_step([state(2,2)],2))\n",
    "tests.test_get_reachable(get_reachable_by_step)\n",
    "tests.test_ok()"
   ]
  },
  {
   "cell_type": "markdown",
   "metadata": {},
   "source": [
    "## Reachset after Several Timesteps\n",
    "\n",
    "Next, compute the reach set after *steps* timesteps. \n",
    "\n",
    "<br/>\n",
    "<div class=\"alert alert-info\">\n",
    "Please implement the following function.\n",
    "</div>"
   ]
  },
  {
   "cell_type": "code",
   "execution_count": null,
   "metadata": {
    "collapsed": false
   },
   "outputs": [],
   "source": [
    "def get_reach_by_step(states,steps):\n",
    "    old_states = states\n",
    "    for step in range(steps):\n",
    "        new_states =[]\n",
    "        for state in old_states:\n",
    "            for new_state in reachable(state):\n",
    "                new_states = list(set(new_states + reachable(state)))\n",
    "        old_states = new_states\n",
    "    return new_states\n",
    "    # raise NotImplementedException(\"Whoops, forgot to implement this!\")"
   ]
  },
  {
   "cell_type": "markdown",
   "metadata": {},
   "source": [
    "Now let's test:"
   ]
  },
  {
   "cell_type": "code",
   "execution_count": null,
   "metadata": {
    "collapsed": false
   },
   "outputs": [],
   "source": [
    "tests.graph_states(get_reach_by_step([state(2,2)],4))\n",
    "tests.test_get_reach(get_reach_by_step)\n",
    "tests.test_ok()"
   ]
  },
  {
   "cell_type": "markdown",
   "metadata": {},
   "source": [
    "## Avoiding Obstacles\n",
    "\n",
    "In order to see if everything in our reach set is valid, we must avoid obstacles. Create a list of obstacles to match the map from the beginning of the pset. "
   ]
  },
  {
   "cell_type": "code",
   "execution_count": null,
   "metadata": {
    "collapsed": false
   },
   "outputs": [],
   "source": [
    "ob1 = obstacle(\"tree1\",[state(9,9),state(9,8),state(8,8),state(8,9)])\n",
    "ob2 = obstacle(\"tree2\",[state(1,0),state(1,1)])\n",
    "ob3 = obstacle(\"tree3\",[state(4,4),state(4,5),state(5,5)])\n",
    "\n",
    "obstacles = [ob1,ob2,ob3]"
   ]
  },
  {
   "cell_type": "markdown",
   "metadata": {},
   "source": [
    "Finally, get the intersection of obstacles and a list of states we generate from our reach set."
   ]
  },
  {
   "cell_type": "code",
   "execution_count": null,
   "metadata": {
    "collapsed": false
   },
   "outputs": [],
   "source": [
    "def get_intersection(states,obstacles):\n",
    "    intersection = []\n",
    "    for state1 in states:\n",
    "        for obstacle in obstacles:\n",
    "            if state1 in obstacle.states:\n",
    "                intersection.append(state)\n",
    "                break\n",
    "    return intersection"
   ]
  },
  {
   "cell_type": "markdown",
   "metadata": {},
   "source": [
    "Let's test:"
   ]
  },
  {
   "cell_type": "code",
   "execution_count": null,
   "metadata": {
    "collapsed": false
   },
   "outputs": [],
   "source": [
    "states = get_reach_by_step([state(2,2)],2)\n",
    "tests.graph_state_interesections(get_intersection,states,obstacles)\n",
    "tests.test_intersection(get_intersection,get_reach_by_step([state(0,0)],1))\n",
    "tests.test_ok()"
   ]
  },
  {
   "cell_type": "markdown",
   "metadata": {},
   "source": [
    "All done!"
   ]
  }
 ],
 "metadata": {
  "kernelspec": {
   "display_name": "Python 2",
   "language": "python",
   "name": "python2"
  },
  "language_info": {
   "codemirror_mode": {
    "name": "ipython",
    "version": 2
   },
   "file_extension": ".py",
   "mimetype": "text/x-python",
   "name": "python",
   "nbconvert_exporter": "python",
   "pygments_lexer": "ipython2",
   "version": "2.7.10"
  }
 },
 "nbformat": 4,
 "nbformat_minor": 0
}
