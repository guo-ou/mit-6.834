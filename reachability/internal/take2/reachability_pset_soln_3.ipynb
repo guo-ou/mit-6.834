{
 "cells": [
  {
   "cell_type": "code",
   "execution_count": 1,
   "metadata": {},
   "outputs": [],
   "source": [
    "%matplotlib inline\n",
    "from __future__ import division\n",
    "import math; import numpy as np\n",
    "import matplotlib as mpl; import matplotlib.pyplot as plt\n",
    "import reach_tests as tests; from classes import *"
   ]
  },
  {
   "cell_type": "markdown",
   "metadata": {},
   "source": [
    "# Problem Set - Reachability\n",
    "\n",
    "In this mini pset, you will implement functions to compute reachability to help a flying plane navigate through forest of trees.  First you'll learn about the data structures used by the algorithm, then you'll implement some helper functions, and finally you'll combine them to identify all possible collisions as a plane flies through the forest.\n",
    "\n",
    "Throughout the pset, we provide a visualization of reachable states and obstacles that may occupy them. Blue means state, green means obstacle, and red means a collision of state with obstacle. Below is a map of the area at t=0: There are three trees, and you are initially located at 2,2. Obstacles and states that appear outside the boundaries are not displayed, but your algorithms should still handle them. \n",
    "\n",
    "\n"
   ]
  },
  {
   "cell_type": "code",
   "execution_count": 2,
   "metadata": {},
   "outputs": [
    {
     "data": {
      "image/png": "[encoded data removed]",
      "text/plain": [
       "<matplotlib.figure.Figure at 0x7f9bae55d810>"
      ]
     },
     "metadata": {},
     "output_type": "display_data"
    }
   ],
   "source": [
    "tests.draw_init_map()"
   ]
  },
  {
   "cell_type": "markdown",
   "metadata": {},
   "source": [
    "To begin, we'll introduce the provided data structures. Please read and run the examples below, making sure that you understand the code and that there are no errors.\n",
    "\n",
    "There are two main classes to work with: states and obstacles. States have a location x,y (accessible via state.x and state.y), and obstacles have a name and a list of states they occupy (obstacle.name, obstacle.states)."
   ]
  },
  {
   "cell_type": "code",
   "execution_count": 3,
   "metadata": {},
   "outputs": [
    {
     "name": "stdout",
     "output_type": "stream",
     "text": [
      "S(1,2)\n",
      "1\n",
      "2\n"
     ]
    }
   ],
   "source": [
    "# A get-to-know-me state\n",
    "my_state = state(1,2)\n",
    "print my_state\n",
    "print my_state.x\n",
    "print my_state.y"
   ]
  },
  {
   "cell_type": "code",
   "execution_count": 4,
   "metadata": {},
   "outputs": [
    {
     "name": "stdout",
     "output_type": "stream",
     "text": [
      "tree([S(1,1), S(1,2)])\n",
      "tree\n",
      "[S(1,1), S(1,2)]\n"
     ]
    }
   ],
   "source": [
    "# A get-to-know-me obstacle\n",
    "my_ob = obstacle(\"tree\",[state(1,1),state(1,2)])\n",
    "print my_ob\n",
    "print my_ob.name\n",
    "print my_ob.states"
   ]
  },
  {
   "cell_type": "markdown",
   "metadata": {},
   "source": [
    "## Reachability Function\n",
    "\n",
    "Your first task is to write the reachable function. Given some start state, return a list of possible states to be in after one time step.\n",
    "\n",
    "The plane has the ability to move 1-3 spaces forward, 1 left or right, or 1 back. It may not remain in the same location without stalling and falling. \n",
    "\n",
    "<br/>\n",
    "<div class=\"alert alert-info\">\n",
    "Please implement the following function.\n",
    "</div>"
   ]
  },
  {
   "cell_type": "code",
   "execution_count": 5,
   "metadata": {},
   "outputs": [],
   "source": [
    "def reachable(start_state):\n",
    "    x=start_state.x\n",
    "    y=start_state.y\n",
    "    reachable = [state(x,y+1),state(x,y+2),state(x,y+3),state(x+1,y),state(x-1,y),state(x,y-1)]\n",
    "    return reachable\n",
    "    # raise NotImplementedException(\"Whoops, forgot to implement this!\")"
   ]
  },
  {
   "cell_type": "markdown",
   "metadata": {},
   "source": [
    "Now, let's visualize this:"
   ]
  },
  {
   "cell_type": "code",
   "execution_count": 6,
   "metadata": {},
   "outputs": [
    {
     "data": {
      "image/png": "[encoded data removed]",
      "text/plain": [
       "<matplotlib.figure.Figure at 0x7f9bac539910>"
      ]
     },
     "metadata": {},
     "output_type": "display_data"
    }
   ],
   "source": [
    "tests.graph_states(reachable(state(2,2)))"
   ]
  },
  {
   "cell_type": "markdown",
   "metadata": {},
   "source": [
    "## Reachable States after Several Timesteps\n",
    "\n",
    "Next, find all the reachable states after *steps* timesteps. As we talked about in the lecture, these are all of the possible states the plane could have reached by the end of *steps* timesteps. Given a list of states and an integer representing number of steps, return a list of states reachable after that many timesteps.\n",
    "\n",
    "<br/>\n",
    "<div class=\"alert alert-info\">\n",
    "Please implement the following function.\n",
    "</div>"
   ]
  },
  {
   "cell_type": "code",
   "execution_count": 7,
   "metadata": {},
   "outputs": [],
   "source": [
    "def get_reachable_by_step(states,steps):\n",
    "    states = states\n",
    "    for step in range(steps):\n",
    "        for state in states:\n",
    "            states = list(set(states + reachable(state)))\n",
    "    return states\n",
    "    # raise NotImplementedException(\"Whoops, forgot to implement this!\")"
   ]
  },
  {
   "cell_type": "markdown",
   "metadata": {},
   "source": [
    "Let's see if it passes the tests:"
   ]
  },
  {
   "cell_type": "code",
   "execution_count": 8,
   "metadata": {
    "scrolled": true
   },
   "outputs": [
    {
     "data": {
      "image/png": "[encoded data removed]",
      "text/plain": [
       "<matplotlib.figure.Figure at 0x7f9bac4218d0>"
      ]
     },
     "metadata": {},
     "output_type": "display_data"
    },
    {
     "data": {
      "text/html": [
       "<div class=\"alert alert-success\">\n",
       "        <strong>Tests passed!!</strong>\n",
       "        </div>"
      ]
     },
     "metadata": {},
     "output_type": "display_data"
    }
   ],
   "source": [
    "tests.graph_states(get_reachable_by_step([state(2,2)],2))\n",
    "tests.test_get_reachable(get_reachable_by_step)\n",
    "tests.test_ok()"
   ]
  },
  {
   "cell_type": "markdown",
   "metadata": {},
   "source": [
    "## Reachset after Several Timesteps\n",
    "\n",
    "Next, compute the reach set after *steps* timesteps. The reach set is the set of states the plane can occupy after *steps* timesteps. This is distinct from reachable: a reach set is a subset of reachable states. Given a list of states and an integer number of steps, return a list of states which are the reach set after that many timesteps.\n",
    "\n",
    "<br/>\n",
    "<div class=\"alert alert-info\">\n",
    "Please implement the following function.\n",
    "</div>"
   ]
  },
  {
   "cell_type": "code",
   "execution_count": 9,
   "metadata": {},
   "outputs": [],
   "source": [
    "def get_reach_by_step(states,steps):\n",
    "    old_states = states\n",
    "    for step in range(steps):\n",
    "        new_states =[]\n",
    "        for state in old_states:\n",
    "            for new_state in reachable(state):\n",
    "                new_states = list(set(new_states + reachable(state)))\n",
    "        old_states = new_states\n",
    "    return new_states\n",
    "    # raise NotImplementedException(\"Whoops, forgot to implement this!\")"
   ]
  },
  {
   "cell_type": "markdown",
   "metadata": {},
   "source": [
    "Now let's test:"
   ]
  },
  {
   "cell_type": "code",
   "execution_count": 10,
   "metadata": {},
   "outputs": [
    {
     "data": {
      "image/png": "[encoded data removed]",
      "text/plain": [
       "<matplotlib.figure.Figure at 0x7f9bac386310>"
      ]
     },
     "metadata": {},
     "output_type": "display_data"
    },
    {
     "data": {
      "text/html": [
       "<div class=\"alert alert-success\">\n",
       "        <strong>Tests passed!!</strong>\n",
       "        </div>"
      ]
     },
     "metadata": {},
     "output_type": "display_data"
    }
   ],
   "source": [
    "tests.graph_states(get_reach_by_step([state(2,2)],4))\n",
    "tests.test_get_reach(get_reach_by_step)\n",
    "tests.test_ok()"
   ]
  },
  {
   "cell_type": "markdown",
   "metadata": {},
   "source": [
    "## Avoiding Obstacles\n",
    "\n",
    "In order to see if everything in our reach set is valid, we must avoid obstacles. Create a list of obstacles to match the map from the beginning of the pset. "
   ]
  },
  {
   "cell_type": "code",
   "execution_count": 11,
   "metadata": {},
   "outputs": [],
   "source": [
    "ob1 = obstacle(\"tree1\",[state(9,9),state(9,8),state(8,8),state(8,9)])\n",
    "ob2 = obstacle(\"tree2\",[state(1,0),state(1,1)])\n",
    "ob3 = obstacle(\"tree3\",[state(4,4),state(4,5),state(5,5)])\n",
    "\n",
    "obstacles = [ob1,ob2,ob3]"
   ]
  },
  {
   "cell_type": "markdown",
   "metadata": {},
   "source": [
    "Finally, get the intersection of obstacles and a list of states we generate from our reach set. Given a list of states and a list of obstacles, return a list of states that are both in that set of states and also occupied by an obstacle."
   ]
  },
  {
   "cell_type": "code",
   "execution_count": 14,
   "metadata": {},
   "outputs": [],
   "source": [
    "def get_intersection(states,obstacles):\n",
    "    intersection = []\n",
    "    for state1 in states:\n",
    "        for obstacle in obstacles:\n",
    "            if state1 in obstacle.states:\n",
    "                intersection.append(state1)\n",
    "                break\n",
    "    return intersection"
   ]
  },
  {
   "cell_type": "markdown",
   "metadata": {},
   "source": [
    "Let's test:"
   ]
  },
  {
   "cell_type": "code",
   "execution_count": 15,
   "metadata": {
    "scrolled": true
   },
   "outputs": [
    {
     "data": {
      "image/png": "[encoded data removed]",
      "text/plain": [
       "<matplotlib.figure.Figure at 0x7f9bac2854d0>"
      ]
     },
     "metadata": {},
     "output_type": "display_data"
    },
    {
     "data": {
      "text/html": [
       "<div class=\"alert alert-success\">\n",
       "        <strong>Tests passed!!</strong>\n",
       "        </div>"
      ]
     },
     "metadata": {},
     "output_type": "display_data"
    }
   ],
   "source": [
    "states = get_reach_by_step([state(0,0)],1)\n",
    "tests.graph_state_interesections(get_intersection,states,obstacles)\n",
    "tests.test_intersection(get_intersection,get_reach_by_step([state(0,0)],1))\n",
    "tests.test_ok()"
   ]
  },
  {
   "cell_type": "markdown",
   "metadata": {},
   "source": [
    "All done!"
   ]
  }
 ],
 "metadata": {
  "kernelspec": {
   "display_name": "Python 3",
   "language": "python",
   "name": "python3"
  },
  "language_info": {
   "codemirror_mode": {
    "name": "ipython",
    "version": 3
   },
   "file_extension": ".py",
   "mimetype": "text/x-python",
   "name": "python",
   "nbconvert_exporter": "python",
   "pygments_lexer": "ipython3",
   "version": "3.6.6"
  }
 },
 "nbformat": 4,
 "nbformat_minor": 1
}
