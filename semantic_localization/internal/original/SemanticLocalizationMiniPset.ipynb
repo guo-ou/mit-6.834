{
 "cells": [
  {
   "cell_type": "markdown",
   "metadata": {},
   "source": [
    "Import modules for this pset: "
   ]
  },
  {
   "cell_type": "code",
   "execution_count": 1,
   "metadata": {
    "collapsed": false
   },
   "outputs": [],
   "source": [
    "%load_ext autoreload\n",
    "%autoreload 2\n",
    "import math\n",
    "import numpy\n",
    "\n",
    "import geo_utils\n",
    "import execute\n",
    "import visualization\n",
    "\n",
    "from tests import *\n",
    "from shapely.geometry import Point"
   ]
  },
  {
   "cell_type": "markdown",
   "metadata": {},
   "source": [
    "# Semantic Localization Mini-Pset"
   ]
  },
  {
   "cell_type": "markdown",
   "metadata": {},
   "source": [
    "In this pset you'll be filling in some of the basic sampling-based localization methods, following along with the creation of the environment and algorithm, and then testing your localization in a variety of ways. \n",
    "\n",
    "0. [About running this problem set](#about)\n",
    "1. [Localization](#localization)\n",
    "2. [Map-making](#map-making)\n",
    "3. [Test your localization algorithm](#test-methods)\n",
    "4. [What is semantic about all this?](#semantic-ness)"
   ]
  },
  {
   "cell_type": "markdown",
   "metadata": {},
   "source": [
    "## About running this problem set <a id=\"about\"/>\n",
    "\n",
    "This problem set will require running simulations that will pop up in a new Python window. These may be slow, with each frame update taking between .5 - 3 seconds depending on how fast your computer is. The test will evaluate after you exit out of the pop-up window. <b> The window may not disappear immediately, but this does not mean the code is frozen. </b> If you force-quit the Python window, you will reset the kernel and the test will never evaluate as correct."
   ]
  },
  {
   "cell_type": "markdown",
   "metadata": {},
   "source": [
    "## Localization <a id=\"localization\"/>\n",
    "\n",
    "Monte-Carlo Localization is a type of sampling technique. The robot converges upon an approximate distribution of its most likely position by iterating between its current observations and sampling from points of more and more likely observations. \n",
    "\n",
    "Below implement a particle filter update step. \n",
    "\n",
    "<b>The following variables and functions are already availible to you in the `Localizer` class:</b>\n",
    "- `localizer.poses` : list of `geo_utils.Pose` objects\n",
    "- `localizer.motion_update(pose, d_forward, d_theta, in_place = True)` \n",
    "  - update single pose to reflect movement from noisy odometry values\n",
    "  - Inputs:\n",
    "      - `pose`:       `geo_utils.Pose` object\n",
    "      - `d_forward`:  expected distance to move forward pose\n",
    "      - `d_theta`:    expected angle to turn pose in radians\n",
    "      - `in_place`:   boolean flag to update `pose` or return new `geo_utils.Pose` object\n",
    "- `localizer.sensor_update(pose, observation, in_place = True)` \n",
    "  - update single pose to reflect noisy observation\n",
    "  - Inputs:\n",
    "      - `pose`:       `geo_utils.Pose` object\n",
    "      - `observation`:  list of `semantic_maps.Detection` objects that robot generated\n",
    "      - `in_place`:   boolean flag to update `pose` or return new `geo_utils.Pose` object\n",
    "- `localizer.normalize_poses()` \n",
    "  - update probability for every pose in `localizer.poses` so these probabilities sum to 1\n",
    "- `localizer.resample()` \n",
    "  - sample `localizer.num_particles` number of particles from `localizer.poses`"
   ]
  },
  {
   "cell_type": "code",
   "execution_count": 1,
   "metadata": {
    "collapsed": true
   },
   "outputs": [],
   "source": [
    "def update_particles(localizer, d_forward = 0, d_theta = 0, observation = None, resample = True):\n",
    "    '''\n",
    "    description: run one loop of the particle filter update\n",
    "    inputs:\n",
    "        localizer - Localizer object\n",
    "        d_forward - distance moved forward\n",
    "        d_theta - angle turned to side (in radians CCW)\n",
    "        observation - list of Detection objects\n",
    "        resample - boolean indicating if resampling should be performed\n",
    "    '''\n",
    "    pass"
   ]
  },
  {
   "cell_type": "code",
   "execution_count": 3,
   "metadata": {
    "collapsed": false
   },
   "outputs": [
    {
     "name": "stdout",
     "output_type": "stream",
     "text": [
      "Actual location  :  (  48.3 , 200.2 )\n",
      "Expected location:  (  71.3 , 195.9 )\n",
      "Distance error:  23.5\n"
     ]
    },
    {
     "data": {
      "text/html": [
       "<div class=\"alert alert-success\"><strong>Tests passed!!</strong></div>"
      ]
     },
     "metadata": {},
     "output_type": "display_data"
    }
   ],
   "source": [
    "test_particle_filter(update_particles)"
   ]
  },
  {
   "cell_type": "markdown",
   "metadata": {},
   "source": [
    "## Map-making <a id=\"map-making\"/>\n",
    "\n",
    "The Cognitive Robotics Grand Challenge: Orienteering environment is purportedly similar to the testing environment we've created - so you should get acquainted with it! \n",
    "\n",
    "The Map(s) we provide you with for testing come in JSON format - a serialization of qualitative information. We have equipped you with a viewer that can view a simple map. "
   ]
  },
  {
   "cell_type": "code",
   "execution_count": null,
   "metadata": {
    "collapsed": false
   },
   "outputs": [],
   "source": [
    "'''\n",
    "obj dictionary must contain:\n",
    "    'width' : numeric width of map\n",
    "    'height': numeric height of map\n",
    "    'robot_pose':\n",
    "        'x': x position\n",
    "        'y': y position\n",
    "        'theta': angle in radians\n",
    "    'landmarks': list of (string object type, [(x, y), ... (x, y)]) tuples going CCW\n",
    "    'path': list of (x, y) locations \n",
    "'''\n",
    "\n",
    "# ** IMPORTANT -- add your object types to landmark_colors  **\n",
    "# **     set the colors for PyPlot,  e.g. 'tree' : 'g'      **\n",
    "# ** already included: 'house', 'tree', 'lake'\n",
    "# ** e.g. visualization.landmark_colors['new_class'] = 'purple'\n",
    "\n",
    "my_map_file_name = 'my_map.json'\n",
    "my_map = execute.BLANK_MAP\n",
    "\n",
    "my_map['height'] = None\n",
    "my_map['width'] = None\n",
    "my_map['robot_pose']['x'] = None\n",
    "my_map['robot_pose']['y'] = None\n",
    "my_map['robot_pose']['theta'] = None\n",
    "my_map['landmarks'] = None\n",
    "my_map['path'] = None"
   ]
  },
  {
   "cell_type": "code",
   "execution_count": null,
   "metadata": {
    "collapsed": false
   },
   "outputs": [],
   "source": [
    "# save your map to a file\n",
    "execute.write_to_json(my_map_file_name, my_map)"
   ]
  },
  {
   "cell_type": "code",
   "execution_count": null,
   "metadata": {
    "collapsed": false
   },
   "outputs": [],
   "source": [
    "test_my_map(my_map_file_name)"
   ]
  },
  {
   "cell_type": "markdown",
   "metadata": {},
   "source": [
    "## Test your localization algorithm <a id=\"test-methods\"/>\n",
    "\n",
    "\n",
    "Now you can put it all together. Using the map file that you just made or one of ours, adjust some of the parameters of the model to see how the performance changes. Try to understand what causes the algorithm to diverge or converge. In particular, consider how your parameter settings can make the algorithm susceptible to: \n",
    "- low density of initial states\n",
    "- symmetries in the map\n",
    "- pruning options too quickly\n",
    "- not repopulating high probability poses often enough"
   ]
  },
  {
   "cell_type": "code",
   "execution_count": null,
   "metadata": {
    "collapsed": false
   },
   "outputs": [],
   "source": [
    "# fine tune your parameters\n",
    "localization_args = dict()\n",
    "localization_args['map_file_name'] = 'my_map.json' # map file to use\n",
    "\n",
    "localization_args['num_particles'] = 1200  # number of particles to maintain\n",
    "localization_args['sense_every'] = 4       # frequency with which to obtain a new observation\n",
    "localization_args['resample_every'] = 6    # frequency with with to resample\n",
    "\n",
    "localization_args['sigma_angle'] = math.radians(5) # std dev of noisy turn motion update\n",
    "localization_args['sigma_forward'] = 3.            # std dev of noisy forward motion update"
   ]
  },
  {
   "cell_type": "code",
   "execution_count": null,
   "metadata": {
    "collapsed": false
   },
   "outputs": [],
   "source": [
    "test_localization(update_function = update_particles, **localization_args)"
   ]
  },
  {
   "cell_type": "markdown",
   "metadata": {},
   "source": [
    "## What is semantic about all this? <a id=\"semantic-ness\"/>\n",
    "\n",
    "Here, we ask you to look closely at your work (and, through yours, ours).\n",
    "\n",
    "Summarize how changing the parameters affected performance."
   ]
  },
  {
   "cell_type": "raw",
   "metadata": {
    "collapsed": false
   },
   "source": [
    "ANSWER HERE     "
   ]
  },
  {
   "cell_type": "markdown",
   "metadata": {},
   "source": [
    "What aspects of your map or path made localization easy or hard? "
   ]
  },
  {
   "cell_type": "raw",
   "metadata": {},
   "source": [
    "ANSWER HERE"
   ]
  },
  {
   "cell_type": "markdown",
   "metadata": {},
   "source": [
    "Do you think performance would have improved if you used laser scan matching instead of semantic detections? Why? "
   ]
  },
  {
   "cell_type": "raw",
   "metadata": {},
   "source": [
    "ANSWER HERE"
   ]
  },
  {
   "cell_type": "markdown",
   "metadata": {},
   "source": [
    "Congratulations! You're done!"
   ]
  }
 ],
 "metadata": {
  "kernelspec": {
   "display_name": "Python 2",
   "language": "python",
   "name": "python2"
  },
  "language_info": {
   "codemirror_mode": {
    "name": "ipython",
    "version": 2
   },
   "file_extension": ".py",
   "mimetype": "text/x-python",
   "name": "python",
   "nbconvert_exporter": "python",
   "pygments_lexer": "ipython2",
   "version": "2.7.10"
  }
 },
 "nbformat": 4,
 "nbformat_minor": 0
}
