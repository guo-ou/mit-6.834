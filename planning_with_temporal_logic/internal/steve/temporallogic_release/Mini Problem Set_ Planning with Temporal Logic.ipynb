{
 "cells": [
  {
   "cell_type": "code",
   "execution_count": null,
   "metadata": {
    "collapsed": false,
    "scrolled": true
   },
   "outputs": [],
   "source": [
    "import networkx as nx\n",
    "import numpy as np\n",
    "from nxpd import draw, nxpdParams\n",
    "nxpdParams['show'] = 'ipynb'\n",
    "from utils import *"
   ]
  },
  {
   "cell_type": "markdown",
   "metadata": {},
   "source": [
    "# Problem Set - Temporal Logic\n",
    "In this problem set, we are going to build a model of a linear temporal logic\n",
    "\n",
    "1. [LTL Modeling](#ltl-modeling)\n",
    "2. [LTL to Buchi Automata](#ltl-to-buchi)\n",
    "3. [LTL to PDDL](#ltl-to-pddl)\n",
    "  1. [Elevator Example](#elevator-example)\n",
    "  2. [Elevator Problem Revisited](#elevator-problem)\n"
   ]
  },
  {
   "cell_type": "markdown",
   "metadata": {},
   "source": [
    "# LTL Modeling: Modeling a Dog’s Life <a id=\"ltl-modeling\"/>\n",
    "\n",
    "They say a dog is a man’s best friend. They’re always there for you, willing to let you pet them, ridiculously excited about running after a slobbery tennis ball, and overall pretty great :) This next part of the pset is to develop a set of LTL sentences to model certain aspects of a dog’s life.\n",
    "\n",
    "If you have any questions on this Part 1 (LTL Modeling), please feel free to email ellies@mit.edu\n",
    "\n",
    "## Stage 1: Puppy Life <a id=\"puppy-life\" />\n",
    "Several Hints will be given in stage one to get you started.  \n",
    "\n",
    "<img src=\"puppy.png\" style=\"width: 500px;\"/>\n",
    "\n",
    "### Statements to Model about Puppies \n"
   ]
  },
  {
   "cell_type": "markdown",
   "metadata": {},
   "source": [
    "#### Modeling Each Condition Seperately\n",
    "\n",
    "<br/>\n",
    "<div class=\"alert alert-warning\">\n",
    "Remember that the Logical Operators for LTL are as follows:\n",
    "</div>\n",
    "\n",
    "•\tand = ^\n",
    "\n",
    "•\tnot (just write not)\n",
    "\n",
    "•\tor (just write or)\n",
    "\n",
    "•\timplies = ->\n",
    "\n",
    "•\tif and only if = <->\n",
    "\n",
    "\n",
    "\n",
    "<br/>\n",
    "<div class=\"alert alert-warning\">\n",
    "\n",
    "And the Temporal Operators for LTL are as follows: N = next, F = future/eventually, G = global/always, U = until, R = release\n",
    "\n",
    "</div>\n",
    "\n",
    "### States:\n",
    "h = happy, f = being fed, t = going to the bathroom, c = chewing/biting, b = being born, p = being a puppy, r = running\n",
    "\n"
   ]
  },
  {
   "cell_type": "markdown",
   "metadata": {},
   "source": [
    "\n",
    "#### Let's model this example together:\n",
    "\n",
    "•\tIf a dog is a puppy, it is happy. \n",
    "\n",
    "This is representative of the implies condition, stating that whenever the dog is a puppy, it is  happy\n",
    "\n",
    "p->h is the correct way to model this; \n",
    "\n",
    "#### Now it's your turn!\n",
    "\n",
    "<br/>\n",
    "<div class=\"alert alert-info\">Modeling the following scenarios.</div>"
   ]
  },
  {
   "cell_type": "markdown",
   "metadata": {},
   "source": [
    "•\tA puppy must always be fed at some point in the future, and after a puppy is fed, it must go to the bathroom immediately after it is fed(Think global & future & implies) \n",
    "\n",
    "(ignore the fact that it has to be a puppy for this to hold, just for this subproblem - ie, you don't need to do p -> ...)\n"
   ]
  },
  {
   "cell_type": "markdown",
   "metadata": {},
   "source": [
    "Answer: "
   ]
  },
  {
   "cell_type": "markdown",
   "metadata": {},
   "source": [
    "•\tThe first thing that happens in a dogs’s life is that it is born (Think how to ensure a state is true in the first state)\n"
   ]
  },
  {
   "cell_type": "markdown",
   "metadata": {},
   "source": [
    "Answer: "
   ]
  },
  {
   "cell_type": "markdown",
   "metadata": {},
   "source": [
    "•\tWhen a dog is a puppy, it is chewing something or running. \n"
   ]
  },
  {
   "cell_type": "markdown",
   "metadata": {},
   "source": [
    "Answer: "
   ]
  },
  {
   "cell_type": "markdown",
   "metadata": {},
   "source": [
    "# Stage 2: Adult Doggy Life\n",
    "\n",
    "<img src=\"dog.png\" style=\"width: 500px;\">\n",
    "\n",
    "### Old States:\n",
    "h = happy, f = being fed, p = going to the bathroom/peeing, c = chewing/biting, b = being born, p = being a puppy\n",
    "\n",
    "### Additional States:\n",
    "a = adult dog, s = sleeping dog, k = hunting, w = hiking\n",
    "\n",
    "### Statements to Model about Adult Dogs\n",
    "\n",
    "<br/>\n",
    "<div class=\"alert alert-info\">Modeling the following scenarios.</div>\n",
    "\n",
    "#### Let's begin by modeling everything seperately again\n",
    "\n",
    "•\tA dog is a puppy until it is an adult dog, at which point it transitions from being a puppy into an adult dog forever\n"
   ]
  },
  {
   "cell_type": "markdown",
   "metadata": {},
   "source": [
    "Answer: "
   ]
  },
  {
   "cell_type": "markdown",
   "metadata": {},
   "source": [
    "\n",
    "•\tAt any given point in time, there will come another time when the adult dog needs to be fed (Think Always Eventually), but now, it has to go to the bathroom sometime after it is fed, but not necessarily right away after.\n",
    "\n",
    "(Again, ignore the fact that it has to be an adult dog for this to hold, just for this subproblem)\n"
   ]
  },
  {
   "cell_type": "markdown",
   "metadata": {},
   "source": [
    "Answer: "
   ]
  },
  {
   "cell_type": "markdown",
   "metadata": {},
   "source": [
    "•\tAt any given point, there will come a time in the future when the dog (regardless of whether it is a puppy or adult dog ) needs to sleep \n",
    "\n"
   ]
  },
  {
   "cell_type": "markdown",
   "metadata": {},
   "source": [
    "Answer: "
   ]
  },
  {
   "cell_type": "markdown",
   "metadata": {},
   "source": [
    "•\tNow, the adult dog must go hunting or hiking at least once at some point in the future\n"
   ]
  },
  {
   "cell_type": "markdown",
   "metadata": {},
   "source": [
    "Answer: "
   ]
  },
  {
   "cell_type": "markdown",
   "metadata": {},
   "source": [
    "### Combine\n",
    "Please combine all the statements now into one statement about dogs modeling these aspects of their life. Be ensure to have distinguishing information for puppies & adult dogs. Some statements apply to just dogs in general. This is kind of tricky, so if it doesn't come to you in more than 10 minutes, feel free to just put down what you have so far and points won't be taken off.\n",
    "\n",
    "**Hint**: Setup is something like (information about all dogs) AND (information about puppies UNTIL ALWAYS information about adult dogs)."
   ]
  },
  {
   "cell_type": "markdown",
   "metadata": {},
   "source": [
    "Answer: "
   ]
  },
  {
   "cell_type": "markdown",
   "metadata": {},
   "source": [
    "# LTL to Buchi Automata <a id=\"ltl-to-buchi\"/>\n",
    "\n",
    "Now that you've had some practice writing LTL formulas, we are going to practice converting some simple LTL formulas to Buchi automata. Buchi automata are extensions of finite state machines used to capture temporal goals expressed by LTL on an infinite timeline. Converting LTL to Buchi automata is the first step to generating actual plans with temporally extended goals.\n",
    "\n",
    "In this section, we will be using the Python library NetworkX for building graphs and nxpd for drawing graphs. The examples below should be enough to create your graphs but you can find the documentation here: https://networkx.readthedocs.io/en/stable/"
   ]
  },
  {
   "cell_type": "markdown",
   "metadata": {},
   "source": [
    "## LTL Operators to Buchi Automata\n",
    "\n",
    "In lecture, we saw how to convert a couple of the LTL operators to Buchi automata. To get started, we are just going to convert the rest of the LTL operators to Buchi automata. You can find the examples of LTL operators converted in lecture below. (Note: We will use '!' to represent the logical operator \"not\")\n",
    "\n",
    "**F**uture - **F**p"
   ]
  },
  {
   "cell_type": "code",
   "execution_count": null,
   "metadata": {
    "collapsed": false
   },
   "outputs": [],
   "source": [
    "F = nx.DiGraph()\n",
    "F.graph['rankdir'] = 'LR' #Graph should be drawn left to right\n",
    "F.add_node(0, shape='circle')\n",
    "F.add_node(1, shape='doublecircle')\n",
    "F.add_edge(1, 1, label = 'True')\n",
    "F.add_edge(0, 1, label = 'p')\n",
    "F.add_edge(0, 0, label = '!p')\n",
    "draw(F)"
   ]
  },
  {
   "cell_type": "markdown",
   "metadata": {},
   "source": [
    "**G**lobally - **G**p"
   ]
  },
  {
   "cell_type": "code",
   "execution_count": null,
   "metadata": {
    "collapsed": false
   },
   "outputs": [],
   "source": [
    "G = nx.DiGraph()\n",
    "G.graph['rankdir'] = 'LR' #Graph should be drawn left to right\n",
    "G.add_node(0, shape='doublecircle')\n",
    "G.add_node(1, shape='circle')\n",
    "G.add_edge(1, 1, label = 'True')\n",
    "G.add_edge(0, 1, label = '!p')\n",
    "G.add_edge(0, 0, label = 'p')\n",
    "draw(G)"
   ]
  },
  {
   "cell_type": "markdown",
   "metadata": {},
   "source": [
    "<div class=\"alert alert-info\">\n",
    "Convert the following LTL operators to Buchi automata.\n",
    "</div>"
   ]
  },
  {
   "cell_type": "markdown",
   "metadata": {},
   "source": [
    "Ne**X**t - **X**p"
   ]
  },
  {
   "cell_type": "code",
   "execution_count": null,
   "metadata": {
    "collapsed": true
   },
   "outputs": [],
   "source": [
    "X = nx.DiGraph()\n",
    "X.graph['rankdir'] = 'LR'\n",
    "#Your code here"
   ]
  },
  {
   "cell_type": "markdown",
   "metadata": {},
   "source": [
    "**U**ntil - p**U**q"
   ]
  },
  {
   "cell_type": "code",
   "execution_count": null,
   "metadata": {
    "collapsed": true
   },
   "outputs": [],
   "source": [
    "U = nx.DiGraph()\n",
    "U.graph['rankdir'] = 'LR'\n",
    "#Your code here"
   ]
  },
  {
   "cell_type": "markdown",
   "metadata": {},
   "source": [
    "**R**elease - p**R**w"
   ]
  },
  {
   "cell_type": "code",
   "execution_count": null,
   "metadata": {
    "collapsed": true
   },
   "outputs": [],
   "source": [
    "X = nx.DiGraph()\n",
    "X.graph['rankdir'] = 'LR'\n",
    "#Your code here"
   ]
  },
  {
   "cell_type": "markdown",
   "metadata": {},
   "source": [
    "## LTL Formulas to Buchi Automata\n",
    "LTL operators can be combined into formulas to express more complex logical statements. Let's return to the traffic light example from lecture.\n",
    "\n",
    "Example: The at some point the traffic light is going to break at remain red forever.\n",
    "\n",
    "**FG** r"
   ]
  },
  {
   "cell_type": "code",
   "execution_count": null,
   "metadata": {
    "collapsed": false
   },
   "outputs": [],
   "source": [
    "FG = nx.DiGraph()\n",
    "FG.graph['rankdir'] = 'LR'\n",
    "FG.add_node(0, shape = 'circle')\n",
    "FG.add_node(1, shape = 'doublecircle')\n",
    "FG.add_edge(0,1, label = 'r')\n",
    "FG.add_edge(0, 0, label = 'True')\n",
    "FG.add_edge(1, 1, label = 'r')\n",
    "draw(FG)"
   ]
  },
  {
   "cell_type": "markdown",
   "metadata": {},
   "source": [
    "<div class=\"alert alert-info\">\n",
    "Convert the following LTL formulas to Buchi automata.\n",
    "</div>"
   ]
  },
  {
   "cell_type": "markdown",
   "metadata": {},
   "source": [
    "In two states from now, the traffic light is going to turn green.\n",
    "\n",
    "**XX** g"
   ]
  },
  {
   "cell_type": "code",
   "execution_count": null,
   "metadata": {
    "collapsed": true
   },
   "outputs": [],
   "source": [
    "XX = nx.DiGraph()\n",
    "XX.graph['rankdir'] = 'LR'\n",
    "#Your code here"
   ]
  },
  {
   "cell_type": "markdown",
   "metadata": {},
   "source": [
    "The traffic light is always red until it turns green and the light must be green inifinitely often.\n",
    "\n",
    "**G**(r **U** g) $\\wedge$ **GF** g"
   ]
  },
  {
   "cell_type": "code",
   "execution_count": null,
   "metadata": {
    "collapsed": true
   },
   "outputs": [],
   "source": [
    "GUGF = nx.DiGraph()\n",
    "GUGF.graph['rankdir'] = 'LR'\n",
    "#Your code here"
   ]
  },
  {
   "cell_type": "markdown",
   "metadata": {},
   "source": [
    "(Optional) Once the light is green, the light cannot become red immediately.\n",
    "\n",
    "**G** (g $\\Rightarrow$ $\\neg$**X** r)"
   ]
  },
  {
   "cell_type": "code",
   "execution_count": null,
   "metadata": {
    "collapsed": true
   },
   "outputs": [],
   "source": [
    "GX = nx.DiGraph()\n",
    "GX.graph['rankdir'] = 'LR'\n",
    "#Your code here"
   ]
  },
  {
   "cell_type": "markdown",
   "metadata": {
    "collapsed": true
   },
   "source": [
    "# LTL to PDDL <a id=\"ltl-to-pddl\"/>\n",
    "\n",
    "Generally, PDDL 2.2, which we are going to use, does not support temporal logic modal operators without additional predicates and functions. In this section, we are going to implement additional predicates and functions that allow us to specify LTL goals and constraints in PDDL 2.2.\n",
    "\n",
    "## Elevator Example <a id=\"elevator-example\"/>\n",
    "Recall the elevator problem where there are four elevators, two fast elevators and two slow elevators each with different reachable floors and capacities, delivering passengers in a nine-floor building. To begin, we are going to incorperate some temporal components into the our elevator plan *goals*.\n",
    "\n",
    "\n",
    "Try running the elevator problem in the `example` folder using `planviz` _without_ any goal modification, and observe the sequence of actions in the output plan.<br/>\n",
    "\n",
    "Run the solver on the domain and problem file (`domain-elevators-al.pddl` and `prob-elevators-al.pddl`) using following command\n",
    "\n",
    "<code>optic-clp -N /path_to/domain-elevators-al.pddl /path_to/prob-elevators-al.pddl | planviz.py\n",
    "</code>\n",
    "\n",
    "<br/>\n",
    "<div class=\"alert alert-info\">\n",
    "Copy the generated plan in the 'Activities' box from the bottom of the Plan Visualizer page and assign it into the activities variable in the code box below\n",
    "</div>"
   ]
  },
  {
   "cell_type": "code",
   "execution_count": null,
   "metadata": {
    "collapsed": false
   },
   "outputs": [],
   "source": [
    "activities = None # YOUR RESULT HERE\n",
    "solution = [{\"duration\": 1.0, \"time_start\": 0.0, \"id\": 0, \"activity\": \"(board p0 fast0 n2 n0 n1)\"}, {\"duration\": 11.0, \"time_start\": 0.0, \"id\": 1, \"activity\": \"(move-down-fast fast1 n2 n0)\"}, {\"duration\": 12.0, \"time_start\": 0.0, \"id\": 2, \"activity\": \"(move-down-slow slow1-0 n7 n6)\"}, {\"duration\": 12.0, \"time_start\": 0.0, \"id\": 3, \"activity\": \"(move-up-slow slow0-0 n0 n1)\"}, {\"duration\": 15.0, \"time_start\": 1.0, \"id\": 4, \"activity\": \"(move-up-fast fast0 n2 n8)\"}, {\"duration\": 1.0, \"time_start\": 11.0, \"id\": 5, \"activity\": \"(board p6 fast1 n0 n0 n1)\"}, {\"duration\": 1.0, \"time_start\": 12.0, \"id\": 6, \"activity\": \"(board p5 slow1-0 n6 n0 n1)\"}, {\"duration\": 1.0, \"time_start\": 12.0, \"id\": 7, \"activity\": \"(board p2 slow0-0 n1 n0 n1)\"}, {\"duration\": 15.0, \"time_start\": 12.0, \"id\": 8, \"activity\": \"(move-up-fast fast1 n0 n6)\"}, {\"duration\": 12.0, \"time_start\": 13.0, \"id\": 9, \"activity\": \"(move-down-slow slow1-0 n6 n5)\"}, {\"duration\": 12.0, \"time_start\": 13.0, \"id\": 10, \"activity\": \"(move-down-slow slow0-0 n1 n0)\"}, {\"duration\": 1.0, \"time_start\": 16.0, \"id\": 11, \"activity\": \"(leave p0 fast0 n8 n1 n0)\"}, {\"duration\": 11.0, \"time_start\": 17.0, \"id\": 12, \"activity\": \"(move-down-fast fast0 n8 n6)\"}, {\"duration\": 1.0, \"time_start\": 25.0, \"id\": 13, \"activity\": \"(leave p5 slow1-0 n5 n1 n0)\"}, {\"duration\": 1.0, \"time_start\": 25.0, \"id\": 14, \"activity\": \"(leave p2 slow0-0 n0 n1 n0)\"}, {\"duration\": 0.001, \"time_start\": 26.0, \"id\": 15, \"activity\": \"(collect-goal-passenger-at p0 n8)\"}, {\"duration\": 12.0, \"time_start\": 26.0, \"id\": 16, \"activity\": \"(move-up-slow slow1-0 n5 n6)\"}, {\"duration\": 12.0, \"time_start\": 26.0, \"id\": 17, \"activity\": \"(move-up-slow slow0-0 n0 n1)\"}, {\"duration\": 0.001, \"time_start\": 26.001, \"id\": 18, \"activity\": \"(collect-goal-passenger-at p5 n5)\"}, {\"duration\": 1.0, \"time_start\": 27.0, \"id\": 19, \"activity\": \"(leave p6 fast1 n6 n1 n0)\"}, {\"duration\": 1.0, \"time_start\": 28.0, \"id\": 20, \"activity\": \"(board p1 fast0 n6 n0 n1)\"}, {\"duration\": 1.0, \"time_start\": 28.001, \"id\": 21, \"activity\": \"(board p4 fast1 n6 n0 n1)\"}, {\"duration\": 15.0, \"time_start\": 29.0, \"id\": 22, \"activity\": \"(move-down-fast fast0 n6 n0)\"}, {\"duration\": 15.0, \"time_start\": 29.001, \"id\": 23, \"activity\": \"(move-down-fast fast1 n6 n0)\"}, {\"duration\": 1.0, \"time_start\": 38.0, \"id\": 24, \"activity\": \"(board p6 slow1-0 n6 n0 n1)\"}, {\"duration\": 12.0, \"time_start\": 38.001, \"id\": 25, \"activity\": \"(move-down-slow slow0-0 n1 n0)\"}, {\"duration\": 12.0, \"time_start\": 39.0, \"id\": 26, \"activity\": \"(move-down-slow slow1-0 n6 n5)\"}, {\"duration\": 1.0, \"time_start\": 44.0, \"id\": 27, \"activity\": \"(leave p1 fast0 n0 n1 n0)\"}, {\"duration\": 1.0, \"time_start\": 44.001, \"id\": 28, \"activity\": \"(leave p4 fast1 n0 n1 n0)\"}, {\"duration\": 1.0, \"time_start\": 45.001, \"id\": 29, \"activity\": \"(board p2 fast0 n0 n0 n1)\"}, {\"duration\": 15.0, \"time_start\": 46.001, \"id\": 30, \"activity\": \"(move-up-fast fast0 n0 n6)\"}, {\"duration\": 1.0, \"time_start\": 50.001, \"id\": 31, \"activity\": \"(board p1 slow0-0 n0 n0 n1)\"}, {\"duration\": 1.0, \"time_start\": 51.0, \"id\": 32, \"activity\": \"(leave p6 slow1-0 n5 n1 n0)\"}, {\"duration\": 12.0, \"time_start\": 51.001, \"id\": 33, \"activity\": \"(move-up-slow slow0-0 n0 n1)\"}, {\"duration\": 0.001, \"time_start\": 52.0, \"id\": 34, \"activity\": \"(collect-goal-passenger-at p4 n0)\"}, {\"duration\": 12.0, \"time_start\": 52.0, \"id\": 35, \"activity\": \"(move-up-slow slow1-0 n5 n6)\"}, {\"duration\": 0.001, \"time_start\": 52.001, \"id\": 36, \"activity\": \"(collect-goal-passenger-at p6 n5)\"}, {\"duration\": 1.0, \"time_start\": 61.001, \"id\": 37, \"activity\": \"(leave p2 fast0 n6 n1 n0)\"}, {\"duration\": 11.0, \"time_start\": 62.001, \"id\": 38, \"activity\": \"(move-down-fast fast0 n6 n4)\"}, {\"duration\": 1.0, \"time_start\": 63.001, \"id\": 39, \"activity\": \"(leave p1 slow0-0 n1 n1 n0)\"}, {\"duration\": 1.0, \"time_start\": 64.0, \"id\": 40, \"activity\": \"(board p2 slow1-0 n6 n0 n1)\"}, {\"duration\": 12.0, \"time_start\": 64.001, \"id\": 41, \"activity\": \"(move-down-slow slow0-0 n1 n0)\"}, {\"duration\": 12.0, \"time_start\": 65.0, \"id\": 42, \"activity\": \"(move-up-slow slow1-0 n6 n7)\"}, {\"duration\": 28.0, \"time_start\": 76.002, \"id\": 43, \"activity\": \"(move-up-slow slow0-0 n0 n3)\"}, {\"duration\": 1.0, \"time_start\": 77.0, \"id\": 44, \"activity\": \"(leave p2 slow1-0 n7 n1 n0)\"}, {\"duration\": 0.001, \"time_start\": 78.001, \"id\": 45, \"activity\": \"(collect-goal-passenger-at p2 n7)\"}, {\"duration\": 0.001, \"time_start\": 78.002, \"id\": 46, \"activity\": \"(collect-goal-passenger-at p1 n1)\"}, {\"duration\": 1.0, \"time_start\": 104.002, \"id\": 47, \"activity\": \"(board p3 slow0-0 n3 n0 n1)\"}, {\"duration\": 12.0, \"time_start\": 105.002, \"id\": 48, \"activity\": \"(move-up-slow slow0-0 n3 n4)\"}, {\"duration\": 1.0, \"time_start\": 117.002, \"id\": 49, \"activity\": \"(leave p3 slow0-0 n4 n1 n0)\"}, {\"duration\": 1.0, \"time_start\": 118.003, \"id\": 50, \"activity\": \"(board p3 fast0 n4 n0 n1)\"}, {\"duration\": 13.0, \"time_start\": 119.003, \"id\": 51, \"activity\": \"(move-down-fast fast0 n4 n0)\"}, {\"duration\": 1.0, \"time_start\": 132.003, \"id\": 52, \"activity\": \"(leave p3 fast0 n0 n1 n0)\"}, {\"duration\": 0.001, \"time_start\": 133.004, \"id\": 53, \"activity\": \"(collect-goal-passenger-at p3 n0)\"}]"
   ]
  },
  {
   "cell_type": "markdown",
   "metadata": {
    "collapsed": true
   },
   "source": [
    "You can check whether two activity objects are the same using `check_equal(activities1, activities2)` as following"
   ]
  },
  {
   "cell_type": "code",
   "execution_count": null,
   "metadata": {
    "collapsed": false
   },
   "outputs": [],
   "source": [
    "check_equal(activities, solution)\n",
    "test_ok()"
   ]
  },
  {
   "cell_type": "markdown",
   "metadata": {},
   "source": [
    "We'll introduce some example predicates augmented to the problem to demonstrate the LTL modeling in PDDL.\n",
    "\n",
    "* `(at-goal-next ?a - passenger ?b - passenger)` - true when passenger `a` gets to his destination _right after_ `b` does\n",
    "* `(at-goal-sometime-before ?a - passenger ?b - passenger)` - true when passenger `a` gets to his goal _sometime before_ `b` does\n",
    "* `(at-goal-sometime-after ?a - passenger ?b - passenger)` - true when passenger `a` gets to his goal _sometime after_ `b` does\n",
    "* `(never-move-fast)` - true when fast elevators are _never_ used (no elevator ever moves fast)\n",
    "* `(never-move-slow)` - true when slow elevators are _never_ used (no elevator ever moves slow)\n",
    "* `(move-fast-until-collected ?a - passenger)` - true when only fast elevators are used _until_ passenger `a` reached his goal, then only slow elevator will be used\n",
    "\n",
    "Now, consider the following scenario:\n",
    "\n",
    "> \"Donald Duck (`p0`) is in our building! Mr.Duck is here for a special comedy show and he needs a quiet time to prepare for his show, which starts right after everyone gets to the target floors. Unfortunately, the fast elevators are being very loud so he requests that everyone **always** uses the _slow_ elevators\"\n",
    "\n",
    "You, as the building elevator moderator, are appointed to find a plan that deliver everyone, including Mr. Duck, to their intended destinations with minimum total-cost while satisfing his request. Each passenger's destination in this scenario is identical to the one in the original problem. \n",
    "\n",
    "<br/>\n",
    "<div class=\"alert alert-warning\">\n",
    "**Important!** In this [Elevator Example](#elevator-example) section, you do *not* need to modify any other part of the problem file but the `:goal` clause\n",
    "</div>\n",
    "\n",
    "<div class=\"alert alert-info\">\n",
    "Modify the **goal description** in the `prob-elevators-al.pddl` file in the example folder. \n",
    "</div>\n",
    "\n",
    "<div class=\"alert alert-info\">\n",
    "Run the solver on the domain file (`domain-elevators-al.pddl`) and your modified `prob-elevators-al.pddl`.<br/>\n",
    "Copy the text from the bottom of the Plan Visualizer page into the code box below\n",
    "</div>"
   ]
  },
  {
   "cell_type": "code",
   "execution_count": null,
   "metadata": {
    "collapsed": false
   },
   "outputs": [],
   "source": [
    "activities = None # YOUR RESULT HERE"
   ]
  },
  {
   "cell_type": "markdown",
   "metadata": {
    "collapsed": true
   },
   "source": [
    "Run `check_elevator_always(activities)` to check your answer"
   ]
  },
  {
   "cell_type": "code",
   "execution_count": null,
   "metadata": {
    "collapsed": false
   },
   "outputs": [],
   "source": [
    "check_elevator_always(activities)\n",
    "test_ok()"
   ]
  },
  {
   "cell_type": "markdown",
   "metadata": {},
   "source": [
    "Great job! Mr.Duck is so impressed that he is thinking about coming back play golf in the club inside the building the next day with some new constraints.\n",
    "\n",
    "> \"Mr.Duck (`p0`) realizes that Daisy Duck (`p1`) is in a hurry so, to build a good impression, he requests that he arrives at the golf club (`n8`) **sometime after** Mrs.Duck arrives at her destination. \n",
    "Further, his nephews, Huey(`p3`) and Dewey(`p4`) would also be in the building. Dewey(`p4`) would like to be at his destination **right after** his brother, Huey(`p3`), because he does not like waiting and he does not want his brother to wait for a long time.\"\n",
    "\n",
    "Again, each passenger's destination in this scenario is identical to the one in the original problem and you want to minimize the total-cost while satisfying all the requests.\n",
    "\n",
    "<div class=\"alert alert-info\">\n",
    "Modify the **goal description** in the `prob-elevators-al.pddl` file in the example folder. \n",
    "</div>\n",
    "\n",
    "<div class=\"alert alert-info\">\n",
    "Run the solver on the domain file (`domain-elevators-al.pddl`) and your modified `prob-elevators-al.pddl`.<br/>\n",
    "Copy the text from the bottom of the Plan Visualizer page into the code box below\n",
    "</div>"
   ]
  },
  {
   "cell_type": "code",
   "execution_count": null,
   "metadata": {
    "collapsed": false
   },
   "outputs": [],
   "source": [
    "activities = None # YOUR RESULT HERE"
   ]
  },
  {
   "cell_type": "code",
   "execution_count": null,
   "metadata": {
    "collapsed": false
   },
   "outputs": [],
   "source": [
    "check_sometime_next(activities)\n",
    "test_ok()"
   ]
  },
  {
   "cell_type": "markdown",
   "metadata": {
    "collapsed": true
   },
   "source": [
    "## Elevator Problem Revisited <a id=\"elevator-example\"/>\n",
    "\n",
    "In the previous part, the notation of time is _global_. Now, consider a model where each elevator has its own _local_ temporal component represented by `energy-level`. In this section, we are going to implement some functions and predicates in PDDl that allows us to impose some LTL constraints on the `energy-level` of the elevators.\n",
    "\n",
    "Scenario:\n",
    "> Suppose that the elevators can be exhausted after a certain number of _durative actions_ they take. Whenever an elevator performs a durative action (`move-up`,`move-down`, `board`, `leave`, except for `recharge`), its energy decrements by one. Once its energy reaches zero, it has to stop and recharge for one time unit `(= ?duration 1.0)` to fully restore to its full energy level, which is 4.0 for all elevators. However, it can also stop and recharge at anypoint before it is exhausted\"\n",
    "\n",
    "<div class=\"alert alert-info\">\n",
    "Modify the `domain-elevators-recharge.pddl` and `prob-elevators-recharge.pddl` in the `problem` folder to implement the constraint described in the preceding scenario.\n",
    "Submit the modified PDDL file along with this ipython notebook.\n",
    "</div>\n",
    "\n",
    "You are free to come up with your own implementation, but to speed up the proccess, we have provided the following guildlines to walk you through the implementation:\n",
    "* We have added a function `(energy-level ?elevator)` to the domain file. You can use that to keep track of the energy level of each elevator. A given elevator, its energy level is initially at its max energy-level, which is 4.\n",
    "* You need to implement recharge, `:durative-action recharge`. `recharge` checks if the input elevator's energy level is lower than 4.0. It restores the (energy-level ?elevator) back to 4.0 after a duration of 1.0 time unit.\n",
    "* When an elevator is recharging, it will not perform any other durative action until it's done.\n",
    "* Each `:durative-action` requires `energy-level ?elevator` > 0.0\n",
    "* Each `:durative-action` decreases the `energy-level ?elevator` by one\n",
    "\n",
    "<div class=\"alert alert-info\">\n",
    "Submit the modified `domain-elevators-recharge.pddl` and `prob-elevators-recharge.pddl` along with this ipython notebook.\n",
    "</div>\n",
    "</br>\n",
    "You can check your result here."
   ]
  },
  {
   "cell_type": "code",
   "execution_count": null,
   "metadata": {
    "collapsed": true
   },
   "outputs": [],
   "source": [
    "activities = None # YOUR RESULT HERE"
   ]
  },
  {
   "cell_type": "code",
   "execution_count": null,
   "metadata": {
    "collapsed": false
   },
   "outputs": [],
   "source": [
    "check_recharge(activities)\n",
    "test_ok()"
   ]
  },
  {
   "cell_type": "markdown",
   "metadata": {},
   "source": [
    "<div class=\"alert alert-warning\">\n",
    "**Congratulations! You are done.**\n",
    "</div>\n",
    "\n",
    "\n",
    "### Constraint Formulation (Optional)\n",
    "\n",
    "\n",
    "Let's reformulate the problem in LTL predicate\n",
    "> Whenever the energy of an elevator is below the full energy level (4.0), it should be recharging within 3.0 time units (since it can take only 3 more actions) and remain recharged there until its energy is fully restored:\n",
    "\n",
    "$r = $ `(recharge ?elevator)` - true when the elevator is being recharged<br/>\n",
    "$f = $ `(full-energy ?elevator)` - true when the elevator has full energy<br/>\n",
    "$l = $ `(energy-level ?elevator < 4.0)` - true when the energy of the elevator is below the full energy level (4.0)\n",
    "\n",
    "$$G(r U f) \\land G((l \\land r)\\lor(l \\land Xr)\\lor(l \\land XXr)\\lor(l \\land XXXr))$$\n",
    "\n",
    "With PDDL 3.0, we can express the constraints as following<br/>\n",
    "`(:constraints \n",
    "  (and \n",
    "    (always-until (recharge ?elevator) (full-energy ?elevator))\n",
    "    (always-within 3.0 (< (energy-level ?elevator) 4.0) (recharge ?elevator))))`\n",
    "\n",
    "\n",
    "### References for Images:\n",
    "\n",
    "\n",
    "References for images: https://www.google.com/search?q=cute+puppies&client=ubuntu&hs=6nW&channel=fs&biw=1182&bih=565&tbm=isch&tbo=u&source=univ&sa=X&ved=0ahUKEwjj1P-P5rHMAhXMeD4KHea6DSoQsAQIGw#channel=fs&tbm=isch&q=dog+running+snow&imgrc=XiA4f8leDEOiQM%3A\n",
    " and https://www.google.com/search?q=cute+puppies&client=ubuntu&hs=6nW&channel=fs&biw=1182&bih=565&tbm=isch&tbo=u&source=univ&sa=X&ved=0ahUKEwjj1P-P5rHMAhXMeD4KHea6DSoQsAQIGw#channel=fs&tbm=isch&q=puppies+cute&imgrc=vcBpl3-Hi9ohCM%3A"
   ]
  }
 ],
 "metadata": {
  "celltoolbar": "Raw Cell Format",
  "kernelspec": {
   "display_name": "Python 2",
   "language": "python",
   "name": "python2"
  },
  "language_info": {
   "codemirror_mode": {
    "name": "ipython",
    "version": 2
   },
   "file_extension": ".py",
   "mimetype": "text/x-python",
   "name": "python",
   "nbconvert_exporter": "python",
   "pygments_lexer": "ipython2",
   "version": "2.7.10"
  }
 },
 "nbformat": 4,
 "nbformat_minor": 0
}
