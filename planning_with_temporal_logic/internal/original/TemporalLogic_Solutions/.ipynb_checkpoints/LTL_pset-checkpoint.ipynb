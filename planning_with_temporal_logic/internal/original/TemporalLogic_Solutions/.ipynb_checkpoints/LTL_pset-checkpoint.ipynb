{
 "cells": [
  {
   "cell_type": "code",
   "execution_count": 1,
   "metadata": {
    "collapsed": false,
    "scrolled": true
   },
   "outputs": [],
   "source": [
    "%load_ext autoreload\n",
    "%autoreload 2\n",
    "import networkx as nx\n",
    "import numpy as np\n",
    "from nxpd import draw, nxpdParams\n",
    "nxpdParams['show'] = 'ipynb'\n",
    "import matplotlib.pyplot as plt\n",
    "%matplotlib inline"
   ]
  },
  {
   "cell_type": "markdown",
   "metadata": {},
   "source": [
    "# LTL Modeling: Modeling a Dog’s Life <a id=\"ltl-to-pddl\"/>\n",
    "\n",
    "They say a dog is a man’s best friend. They’re always there for you, willing to let you pet them, ridiculously excited about running after a slobbery tennis ball, and overall pretty great :) This next part of the pset is to develop a set of LTL sentences to model certain aspects of a dog’s life.\n",
    "\n",
    "If you have any questions on this Part 1 (LTL Modeling), please feel free to email ellies@mit.edu\n",
    "\n",
    "## Stage 1: Puppy Life <a id=\"puppy-life\" />\n",
    "Several Hints will be given in stage one to get you started.  \n",
    "\n",
    "<img src=\"puppy.svg\">\n",
    "\n",
    "\n",
    "### Statements to Model about Puppies \n",
    "\n",
    "•\tPuppies are always happy \n",
    "\n",
    "•\tAt any given point, there will come a time when the puppy needs to be fed (Think Always Eventually)\n",
    "\n",
    "•\tAfter a puppy is fed, it must go to the bathroom (Think implies)\n",
    "\n",
    "•\tThe first thing that happens in any dog's life is that it is born (Think how to ensure a state is true in the first state)\n",
    "\n",
    "•\tPuppies are always chewing something or running\n",
    "\n",
    "\n",
    "\n"
   ]
  },
  {
   "cell_type": "markdown",
   "metadata": {},
   "source": [
    "# Problem Set - Temporal Logic\n",
    "In this problem set, we are going to build a model of a linear temporal logic\n",
    "\n",
    "1. [LTL Modeling](#ltl-modeling)\n",
    "2. [LTL to Buchi Automata](#ltl-to-buchi)\n",
    "3. [LTL to PDDL](#ltl-to-pddl)\n",
    "  1. [Elevator Example](#elevator-example)\n",
    "  2. [Elevator Problem Revisited](#elevator-problem)\n"
   ]
  },
  {
   "cell_type": "markdown",
   "metadata": {},
   "source": [
    "### Modeling Each Condition Seperately\n",
    "\n",
    "<br/>\n",
    "<div class=\"alert alert-info\">\n",
    "Remember that the Logical Operators for LTL are as follows:\n",
    "</div>\n",
    "\n",
    "•\tand = ^\n",
    "\n",
    "•\tnot (just write not)\n",
    "\n",
    "•\tor (just write or)\n",
    "\n",
    "•\timplies = ->\n",
    "\n",
    "•\tif and only if = <->\n",
    "\n",
    "\n",
    "\n",
    "<br/>\n",
    "<div class=\"alert alert-info\">\n",
    "\n",
    "And the Temporal Operators for LTL are as follows: N = next, F = future/eventually, G = global/always, U = until, R = release\n",
    "\n",
    "</div>\n",
    "\n",
    "### States:\n",
    "h = happy, f = being fed, t = going to the bathroom, c = chewing/biting, b = being born, p = being a puppy, r = running\n",
    "\n"
   ]
  },
  {
   "cell_type": "markdown",
   "metadata": {},
   "source": [
    "\n",
    "#### Let's model this example together:\n",
    "\n",
    "•\tPuppies are always happy \n",
    "\n",
    "This is representative of the Global/Always condition, stating that a puppy is *always* or *globally* happy\n",
    "\n",
    "G(h)"
   ]
  },
  {
   "cell_type": "markdown",
   "metadata": {},
   "source": [
    "#### Now it's your turn!\n",
    "\n",
    "•\tAt any given point in time, there will come another time when the dog needs to be fed (Think Always Eventually)\n"
   ]
  },
  {
   "cell_type": "markdown",
   "metadata": {},
   "source": [
    "Answer: "
   ]
  },
  {
   "cell_type": "markdown",
   "metadata": {},
   "source": [
    "•\tAfter a puppy is fed, it must go to the bathroom immediately after it is fed(Think implies)\n"
   ]
  },
  {
   "cell_type": "markdown",
   "metadata": {},
   "source": [
    "Answer: "
   ]
  },
  {
   "cell_type": "markdown",
   "metadata": {},
   "source": [
    "•\tThe first thing that happens in a dogs’s life is that it is born (Think how to ensure a state is true in the first state)\n",
    "\n"
   ]
  },
  {
   "cell_type": "markdown",
   "metadata": {},
   "source": [
    "Answer: "
   ]
  },
  {
   "cell_type": "markdown",
   "metadata": {},
   "source": [
    "•\tPuppies are always chewing something or running\n"
   ]
  },
  {
   "cell_type": "markdown",
   "metadata": {},
   "source": [
    "Answer: "
   ]
  },
  {
   "cell_type": "markdown",
   "metadata": {},
   "source": [
    "It's clear that being a puppy *implies* a lot of things. Combine the above statements into one statement about puppies. Statements about *dogs* in general should not be included in this."
   ]
  },
  {
   "cell_type": "markdown",
   "metadata": {},
   "source": [
    "Answer: "
   ]
  },
  {
   "cell_type": "markdown",
   "metadata": {},
   "source": [
    "# Stage 2: Adult Doggy Life\n",
    "\n",
    "<img src=\"dog.svg\">\n",
    "\n",
    "### Old States:\n",
    "h = happy, f = being fed, p = going to the bathroom/peeing, c = chewing/biting, b = being born, p = being a puppy\n",
    "\n",
    "### Additional States:\n",
    "a = adult dog, o = being outside, u = upset owner, s = sleeping dog, k = hunting, w = hiking \n",
    "\n",
    "### Statements to Model about Adult Dogs\n",
    "•\tA dog is a puppy until it is an adult dog, at which point it transitions from being a puppy into a majestic dog\n",
    "\n",
    "•\tNow, the adult dog must be outside to pee\n",
    "\n",
    "•\tNow, if the owner is upset, the adult dog will emphasize with the owner\n",
    "\n",
    "•\tAt any given point, there will come a time in the future when the dog needs to sleep \n",
    "\n",
    "•\tNow, the dog must go hunting or hiking at least once at some point in the future\n",
    "\n",
    "### Let's begin by modeling everything seperately again\n",
    "\n",
    "•\tA dog is a puppy until it is an adult dog, at which point it transitions from being a puppy into a majestic dog\n"
   ]
  },
  {
   "cell_type": "markdown",
   "metadata": {},
   "source": [
    "Answer: "
   ]
  },
  {
   "cell_type": "markdown",
   "metadata": {},
   "source": [
    "•\tNow, the adult dog must be outside to pee\n",
    "\n"
   ]
  },
  {
   "cell_type": "markdown",
   "metadata": {},
   "source": [
    "Answer: "
   ]
  },
  {
   "cell_type": "markdown",
   "metadata": {},
   "source": [
    "•\tNow, if the owner is upset, the adult dog will emphasize with the owner\n",
    "\n"
   ]
  },
  {
   "cell_type": "markdown",
   "metadata": {},
   "source": [
    "Answer: "
   ]
  },
  {
   "cell_type": "markdown",
   "metadata": {},
   "source": [
    "•\tAt any given point, there will come a time in the future when the dog needs to sleep \n",
    "\n"
   ]
  },
  {
   "cell_type": "markdown",
   "metadata": {},
   "source": [
    "Answer: "
   ]
  },
  {
   "cell_type": "markdown",
   "metadata": {},
   "source": [
    "•\tNow, the dog must go hunting or hiking at least once at some point in the future\n"
   ]
  },
  {
   "cell_type": "markdown",
   "metadata": {},
   "source": [
    "Answer: "
   ]
  },
  {
   "cell_type": "markdown",
   "metadata": {},
   "source": [
    "### Combine\n",
    "Please combine all the statements now into one statement about dogs modeling these aspects of their life. Be ensure to have distinguishing information for puppies & adult dogs. Some statements apply to just dogs in general.\n",
    "\n",
    "Hint: You could use implies to indicate the information just about adult dogs or puppies."
   ]
  },
  {
   "cell_type": "markdown",
   "metadata": {},
   "source": [
    "Answer: "
   ]
  },
  {
   "cell_type": "markdown",
   "metadata": {},
   "source": [
    "# LTL to Buchi Automata\n",
    "\n",
    "Now that you've had some practice writing LTL formulas, we are going to practice converting some simple LTL formulas to Buchi automata. Buchi automata are extensions of finite state machines used to capture temporal goals expressed by LTL on an infinite timeline. Converting LTL to Buchi automata is the first step to generating actual plans with temporally extended goals.\n",
    "\n",
    "In this section, we will be using the Python library NetworkX for building graphs and nxpd for drawing graphs. The examples below should be enough to create your graphs but you can find the documentation here: https://networkx.readthedocs.io/en/stable/"
   ]
  },
  {
   "cell_type": "markdown",
   "metadata": {},
   "source": [
    "## LTL Operators to Buchi Automata\n",
    "\n",
    "In lecture, we saw how to convert a couple of the LTL operators to Buchi automata. To get started, we are just going to convert the rest of the LTL operators to Buchi automata. You can find the examples of LTL operators converted in lecture below. (Note: We will use '!' to represent the logical operator \"not\")\n",
    "\n",
    "**F**uture - **F**p"
   ]
  },
  {
   "cell_type": "code",
   "execution_count": 2,
   "metadata": {
    "collapsed": false
   },
   "outputs": [
    {
     "data": {
      "image/png": "[encoded data removed]",
      "text/plain": [
       "<IPython.core.display.Image object>"
      ]
     },
     "execution_count": 2,
     "metadata": {},
     "output_type": "execute_result"
    }
   ],
   "source": [
    "F = nx.DiGraph()\n",
    "F.graph['rankdir'] = 'LR' #Graph should be drawn left to right\n",
    "F.add_node(0, shape='circle')\n",
    "F.add_node(1, shape='doublecircle')\n",
    "F.add_edge(1, 1, label = 'True')\n",
    "F.add_edge(0, 1, label = 'p')\n",
    "F.add_edge(0, 0, label = '!p')\n",
    "draw(F)"
   ]
  },
  {
   "cell_type": "markdown",
   "metadata": {},
   "source": [
    "**G**lobally - **G**p"
   ]
  },
  {
   "cell_type": "code",
   "execution_count": 3,
   "metadata": {
    "collapsed": false
   },
   "outputs": [
    {
     "data": {
      "image/png": "[encoded data removed]",
      "text/plain": [
       "<IPython.core.display.Image object>"
      ]
     },
     "execution_count": 3,
     "metadata": {},
     "output_type": "execute_result"
    }
   ],
   "source": [
    "G = nx.DiGraph()\n",
    "G.graph['rankdir'] = 'LR' #Graph should be drawn left to right\n",
    "G.add_node(0, shape='doublecircle')\n",
    "G.add_node(1, shape='circle')\n",
    "G.add_edge(1, 1, label = 'True')\n",
    "G.add_edge(0, 1, label = '!p')\n",
    "G.add_edge(0, 0, label = 'p')\n",
    "draw(G)"
   ]
  },
  {
   "cell_type": "markdown",
   "metadata": {},
   "source": [
    "<div class=\"alert alert-info\">\n",
    "Convert the following LTL operators to Buchi automata.\n",
    "</div>"
   ]
  },
  {
   "cell_type": "markdown",
   "metadata": {},
   "source": [
    "Ne**X**t - **X**p"
   ]
  },
  {
   "cell_type": "code",
   "execution_count": 4,
   "metadata": {
    "collapsed": true
   },
   "outputs": [],
   "source": [
    "X = nx.DiGraph()\n",
    "X.graph['rankdir'] = 'LR'\n",
    "#Your code here"
   ]
  },
  {
   "cell_type": "markdown",
   "metadata": {},
   "source": [
    "**U**ntil - p**U**q"
   ]
  },
  {
   "cell_type": "code",
   "execution_count": 4,
   "metadata": {
    "collapsed": true
   },
   "outputs": [],
   "source": [
    "U = nx.DiGraph()\n",
    "U.graph['rankdir'] = 'LR'\n",
    "#Your code here"
   ]
  },
  {
   "cell_type": "markdown",
   "metadata": {},
   "source": [
    "**R**elease - p**R**w"
   ]
  },
  {
   "cell_type": "code",
   "execution_count": 4,
   "metadata": {
    "collapsed": true
   },
   "outputs": [],
   "source": [
    "X = nx.DiGraph()\n",
    "X.graph['rankdir'] = 'LR'\n",
    "#Your code here"
   ]
  },
  {
   "cell_type": "markdown",
   "metadata": {},
   "source": [
    "## LTL Formulas to Buchi Automata\n",
    "LTL operators can be combined into formulas to express more complex logical statements. Let's return to the traffic light example from lecture.\n",
    "\n",
    "Example: The at some point the traffic light is going to break at remain red forever.\n",
    "\n",
    "**FG** r"
   ]
  },
  {
   "cell_type": "code",
   "execution_count": 6,
   "metadata": {
    "collapsed": false
   },
   "outputs": [
    {
     "data": {
      "image/png": "[encoded data removed]",
      "text/plain": [
       "<IPython.core.display.Image object>"
      ]
     },
     "execution_count": 6,
     "metadata": {},
     "output_type": "execute_result"
    }
   ],
   "source": [
    "FG = nx.DiGraph()\n",
    "FG.graph['rankdir'] = 'LR'\n",
    "FG.add_node(0, shape = 'circle')\n",
    "FG.add_node(1, shape = 'doublecircle')\n",
    "FG.add_edge(0,1, label = 'r')\n",
    "FG.add_edge(0, 0, label = 'True')\n",
    "FG.add_edge(1, 1, label = 'r')\n",
    "draw(FG)"
   ]
  },
  {
   "cell_type": "markdown",
   "metadata": {},
   "source": [
    "<div class=\"alert alert-info\">\n",
    "Convert the following LTL formulas to Buchi automata.\n",
    "</div>"
   ]
  },
  {
   "cell_type": "markdown",
   "metadata": {},
   "source": [
    "In two states from now, the traffic light is going to turn green.\n",
    "\n",
    "**XX** g"
   ]
  },
  {
   "cell_type": "code",
   "execution_count": 4,
   "metadata": {
    "collapsed": true
   },
   "outputs": [],
   "source": [
    "XX = nx.DiGraph()\n",
    "XX.graph['rankdir'] = 'LR'\n",
    "#Your code here"
   ]
  },
  {
   "cell_type": "markdown",
   "metadata": {},
   "source": [
    "The traffic light is always red until it turns green and the light must be green inifinitely often.\n",
    "\n",
    "**G**(r **U** g) $\\wedge$ **GF** g"
   ]
  },
  {
   "cell_type": "code",
   "execution_count": 4,
   "metadata": {
    "collapsed": true
   },
   "outputs": [],
   "source": [
    "GUGF = nx.DiGraph()\n",
    "GUGF.graph['rankdir'] = 'LR'\n",
    "#Your code here"
   ]
  },
  {
   "cell_type": "markdown",
   "metadata": {},
   "source": [
    "(Optional) Once the light is green, the light cannot become red immediately.\n",
    "\n",
    "**G** (g $\\Rightarrow$ $\\neg$**X** r)"
   ]
  },
  {
   "cell_type": "code",
   "execution_count": 4,
   "metadata": {
    "collapsed": true
   },
   "outputs": [],
   "source": [
    "GX = nx.DiGraph()\n",
    "GX.graph['rankdir'] = 'LR'\n",
    "#Your code here"
   ]
  },
  {
   "cell_type": "markdown",
   "metadata": {
    "collapsed": true
   },
   "source": [
    "# LTL to PDDL <a id=\"ltl-to-pddl\"/>\n",
    "\n",
    "Generally, PDDL 2.2, which we are going to use, does not support temporal logic modal operators. However, with additional predicates and functions, we can easily model the temporal constraints and goals. \n",
    "\n",
    "## Elevator Example <a id=\"elevator-example\"/>\n",
    "Recall the elevator problem where there are four elevators, two fast elevators and two slow elevators each with different reachable floors and capacities, delivering passengers in a nine-floor building. In this section, we are going to incorperate some temporal components into the our elevator plan goals.\n",
    "\n",
    "<br/>\n",
    "<div class=\"alert alert-info\">\n",
    "To begin, try running the elevator problem in the example folder using planviz _without_ any goal modification and observe the sequence of the actions in the output plan.\n",
    "</div>"
   ]
  },
  {
   "cell_type": "code",
   "execution_count": 16,
   "metadata": {
    "collapsed": true
   },
   "outputs": [],
   "source": [
    "# Plan with original goal descriptions\n",
    "activities = [{\"duration\": 1.0, \"time_start\": 0.0, \"id\": 0, \"activity\": \"(board p0 fast0 n2 n0 n1)\"}, {\"duration\": 11.0, \"time_start\": 0.0, \"id\": 1, \"activity\": \"(move-down-fast fast1 n2 n0)\"}, {\"duration\": 12.0, \"time_start\": 0.0, \"id\": 2, \"activity\": \"(move-down-slow slow1-0 n7 n6)\"}, {\"duration\": 12.0, \"time_start\": 0.0, \"id\": 3, \"activity\": \"(move-up-slow slow0-0 n0 n1)\"}, {\"duration\": 15.0, \"time_start\": 1.0, \"id\": 4, \"activity\": \"(move-up-fast fast0 n2 n8)\"}, {\"duration\": 1.0, \"time_start\": 11.0, \"id\": 5, \"activity\": \"(board p6 fast1 n0 n0 n1)\"}, {\"duration\": 1.0, \"time_start\": 12.0, \"id\": 6, \"activity\": \"(board p5 slow1-0 n6 n0 n1)\"}, {\"duration\": 1.0, \"time_start\": 12.0, \"id\": 7, \"activity\": \"(board p2 slow0-0 n1 n0 n1)\"}, {\"duration\": 15.0, \"time_start\": 12.0, \"id\": 8, \"activity\": \"(move-up-fast fast1 n0 n6)\"}, {\"duration\": 12.0, \"time_start\": 13.0, \"id\": 9, \"activity\": \"(move-down-slow slow1-0 n6 n5)\"}, {\"duration\": 12.0, \"time_start\": 13.0, \"id\": 10, \"activity\": \"(move-down-slow slow0-0 n1 n0)\"}, {\"duration\": 1.0, \"time_start\": 16.0, \"id\": 11, \"activity\": \"(leave p0 fast0 n8 n1 n0)\"}, {\"duration\": 11.0, \"time_start\": 17.0, \"id\": 12, \"activity\": \"(move-down-fast fast0 n8 n6)\"}, {\"duration\": 1.0, \"time_start\": 25.0, \"id\": 13, \"activity\": \"(leave p5 slow1-0 n5 n1 n0)\"}, {\"duration\": 1.0, \"time_start\": 25.0, \"id\": 14, \"activity\": \"(leave p2 slow0-0 n0 n1 n0)\"}, {\"duration\": 0.001, \"time_start\": 26.0, \"id\": 15, \"activity\": \"(collect-goal-passenger-at p0 n8)\"}, {\"duration\": 12.0, \"time_start\": 26.0, \"id\": 16, \"activity\": \"(move-up-slow slow1-0 n5 n6)\"}, {\"duration\": 12.0, \"time_start\": 26.0, \"id\": 17, \"activity\": \"(move-up-slow slow0-0 n0 n1)\"}, {\"duration\": 0.001, \"time_start\": 26.001, \"id\": 18, \"activity\": \"(collect-goal-passenger-at p5 n5)\"}, {\"duration\": 1.0, \"time_start\": 27.0, \"id\": 19, \"activity\": \"(leave p6 fast1 n6 n1 n0)\"}, {\"duration\": 1.0, \"time_start\": 28.0, \"id\": 20, \"activity\": \"(board p1 fast0 n6 n0 n1)\"}, {\"duration\": 1.0, \"time_start\": 28.001, \"id\": 21, \"activity\": \"(board p4 fast1 n6 n0 n1)\"}, {\"duration\": 15.0, \"time_start\": 29.0, \"id\": 22, \"activity\": \"(move-down-fast fast0 n6 n0)\"}, {\"duration\": 15.0, \"time_start\": 29.001, \"id\": 23, \"activity\": \"(move-down-fast fast1 n6 n0)\"}, {\"duration\": 1.0, \"time_start\": 38.0, \"id\": 24, \"activity\": \"(board p6 slow1-0 n6 n0 n1)\"}, {\"duration\": 12.0, \"time_start\": 38.001, \"id\": 25, \"activity\": \"(move-down-slow slow0-0 n1 n0)\"}, {\"duration\": 12.0, \"time_start\": 39.0, \"id\": 26, \"activity\": \"(move-down-slow slow1-0 n6 n5)\"}, {\"duration\": 1.0, \"time_start\": 44.0, \"id\": 27, \"activity\": \"(leave p1 fast0 n0 n1 n0)\"}, {\"duration\": 1.0, \"time_start\": 44.001, \"id\": 28, \"activity\": \"(leave p4 fast1 n0 n1 n0)\"}, {\"duration\": 1.0, \"time_start\": 45.001, \"id\": 29, \"activity\": \"(board p2 fast0 n0 n0 n1)\"}, {\"duration\": 15.0, \"time_start\": 46.001, \"id\": 30, \"activity\": \"(move-up-fast fast0 n0 n6)\"}, {\"duration\": 1.0, \"time_start\": 50.001, \"id\": 31, \"activity\": \"(board p1 slow0-0 n0 n0 n1)\"}, {\"duration\": 1.0, \"time_start\": 51.0, \"id\": 32, \"activity\": \"(leave p6 slow1-0 n5 n1 n0)\"}, {\"duration\": 12.0, \"time_start\": 51.001, \"id\": 33, \"activity\": \"(move-up-slow slow0-0 n0 n1)\"}, {\"duration\": 0.001, \"time_start\": 52.0, \"id\": 34, \"activity\": \"(collect-goal-passenger-at p4 n0)\"}, {\"duration\": 12.0, \"time_start\": 52.0, \"id\": 35, \"activity\": \"(move-up-slow slow1-0 n5 n6)\"}, {\"duration\": 0.001, \"time_start\": 52.001, \"id\": 36, \"activity\": \"(collect-goal-passenger-at p6 n5)\"}, {\"duration\": 1.0, \"time_start\": 61.001, \"id\": 37, \"activity\": \"(leave p2 fast0 n6 n1 n0)\"}, {\"duration\": 11.0, \"time_start\": 62.001, \"id\": 38, \"activity\": \"(move-down-fast fast0 n6 n4)\"}, {\"duration\": 1.0, \"time_start\": 63.001, \"id\": 39, \"activity\": \"(leave p1 slow0-0 n1 n1 n0)\"}, {\"duration\": 1.0, \"time_start\": 64.0, \"id\": 40, \"activity\": \"(board p2 slow1-0 n6 n0 n1)\"}, {\"duration\": 12.0, \"time_start\": 64.001, \"id\": 41, \"activity\": \"(move-down-slow slow0-0 n1 n0)\"}, {\"duration\": 12.0, \"time_start\": 65.0, \"id\": 42, \"activity\": \"(move-up-slow slow1-0 n6 n7)\"}, {\"duration\": 28.0, \"time_start\": 76.002, \"id\": 43, \"activity\": \"(move-up-slow slow0-0 n0 n3)\"}, {\"duration\": 1.0, \"time_start\": 77.0, \"id\": 44, \"activity\": \"(leave p2 slow1-0 n7 n1 n0)\"}, {\"duration\": 0.001, \"time_start\": 78.001, \"id\": 45, \"activity\": \"(collect-goal-passenger-at p2 n7)\"}, {\"duration\": 0.001, \"time_start\": 78.002, \"id\": 46, \"activity\": \"(collect-goal-passenger-at p1 n1)\"}, {\"duration\": 1.0, \"time_start\": 104.002, \"id\": 47, \"activity\": \"(board p3 slow0-0 n3 n0 n1)\"}, {\"duration\": 12.0, \"time_start\": 105.002, \"id\": 48, \"activity\": \"(move-up-slow slow0-0 n3 n4)\"}, {\"duration\": 1.0, \"time_start\": 117.002, \"id\": 49, \"activity\": \"(leave p3 slow0-0 n4 n1 n0)\"}, {\"duration\": 1.0, \"time_start\": 118.003, \"id\": 50, \"activity\": \"(board p3 fast0 n4 n0 n1)\"}, {\"duration\": 13.0, \"time_start\": 119.003, \"id\": 51, \"activity\": \"(move-down-fast fast0 n4 n0)\"}, {\"duration\": 1.0, \"time_start\": 132.003, \"id\": 52, \"activity\": \"(leave p3 fast0 n0 n1 n0)\"}, {\"duration\": 0.001, \"time_start\": 133.004, \"id\": 53, \"activity\": \"(collect-goal-passenger-at p3 n0)\"}]"
   ]
  },
  {
   "cell_type": "markdown",
   "metadata": {},
   "source": [
    "We'll introduce some example predicates augmented to the problem to demonstrate the LTL modeling in PDDL.\n",
    "\n",
    "* `(at-goal-next ?a - passenger ?b - passenger)` - true when passenger `a` gets to his destination _right after_ `b` does\n",
    "* `(at-goal-sometime-before ?a - passenger ?b - passenger)` - true when passenger `a` gets to his goal _sometime before_ `b` does\n",
    "* `(at-goal-sometime-after ?a - passenger ?b - passenger)` - true when passenger `a` gets to his goal _sometime after_ `b` does\n",
    "* `(never-move-fast)` - true when fast elevators are _never_ used (no elevator ever moves fast)\n",
    "* `(never-move-slow)` - true when slow elevators are _never_ used (no elevator ever moves slow)\n",
    "* `(move-fast-until-collected ?a - passenger)` - true when only fast elevators are used _until_ passenger `a` reached his goal, then only slow elevator will be used\n",
    "\n",
    "Now, consider the following scenario:\n",
    "\n",
    "> \"Donald Duck (`p0`) is in our building! Mr.Duck is here for a special comedy show and he needs a quiet time to prepare for his show, which starts right after everyone gets to the target floors. Unfortunately, the fast elevators are being very loud so he requests that everyone **always** uses the _slow_ elevators\"\n",
    "\n",
    "You, as the building elevator moderator, are appointed to find a plan that deliver everyone, including Mr. Duck, to their intended destinations with minimum total-cost while satisfing his request. Each passenger's destination in this scenario is identical to the one in the original problem. \n",
    "\n",
    "<br/>\n",
    "<div class=\"alert alert-warning\">\n",
    "**Important!** In this [Elevator Example](#elevator-example) section, you do *not* need to modify any other part of the problem file but the `:goal` clause\n",
    "</div>\n",
    "\n",
    "<div class=\"alert alert-info\">\n",
    "Modify the **goal description** of the _original_ problem so that everyone _always_ uses the slow elevators. Copy the generated plan in the 'Activities' box in the bottom of the page and use it to set the `activities` variable below. (This takes up to a minute)\n",
    "</div>"
   ]
  },
  {
   "cell_type": "code",
   "execution_count": 17,
   "metadata": {
    "collapsed": true
   },
   "outputs": [],
   "source": [
    "# YOUR PLAN HERE\n",
    "activities = []\n",
    "solution = [{\"duration\": 12.0, \"time_start\": 0.0, \"id\": 0, \"activity\": \"(move-down-slow slow1-0 n7 n6)\"}, {\"duration\": 12.0, \"time_start\": 0.0, \"id\": 1, \"activity\": \"(move-up-slow slow0-0 n0 n1)\"}, {\"duration\": 1.0, \"time_start\": 0.0, \"id\": 2, \"activity\": \"(board p0 fast0 n2 n0 n1)\"}, {\"duration\": 1.0, \"time_start\": 1.001, \"id\": 3, \"activity\": \"(leave p0 fast0 n2 n1 n0)\"}, {\"duration\": 1.0, \"time_start\": 12.0, \"id\": 4, \"activity\": \"(board p5 slow1-0 n6 n0 n1)\"}, {\"duration\": 1.0, \"time_start\": 12.0, \"id\": 5, \"activity\": \"(board p2 slow0-0 n1 n0 n1)\"}, {\"duration\": 12.0, \"time_start\": 13.0, \"id\": 6, \"activity\": \"(move-down-slow slow1-0 n6 n5)\"}, {\"duration\": 12.0, \"time_start\": 13.0, \"id\": 7, \"activity\": \"(move-down-slow slow0-0 n1 n0)\"}, {\"duration\": 1.0, \"time_start\": 25.0, \"id\": 8, \"activity\": \"(leave p5 slow1-0 n5 n1 n0)\"}, {\"duration\": 36.0, \"time_start\": 25.001, \"id\": 9, \"activity\": \"(move-up-slow slow0-0 n0 n4)\"}, {\"duration\": 20.0, \"time_start\": 26.0, \"id\": 10, \"activity\": \"(move-up-slow slow1-0 n5 n7)\"}, {\"duration\": 12.0, \"time_start\": 46.001, \"id\": 11, \"activity\": \"(move-down-slow slow1-0 n7 n6)\"}, {\"duration\": 1.0, \"time_start\": 58.001, \"id\": 12, \"activity\": \"(board p1 slow1-0 n6 n0 n1)\"}, {\"duration\": 20.0, \"time_start\": 59.001, \"id\": 13, \"activity\": \"(move-down-slow slow1-0 n6 n4)\"}, {\"duration\": 1.0, \"time_start\": 61.001, \"id\": 14, \"activity\": \"(leave p2 slow0-0 n4 n1 n0)\"}, {\"duration\": 12.0, \"time_start\": 62.001, \"id\": 15, \"activity\": \"(move-down-slow slow0-0 n4 n3)\"}, {\"duration\": 1.0, \"time_start\": 74.001, \"id\": 16, \"activity\": \"(board p3 slow0-0 n3 n0 n1)\"}, {\"duration\": 12.0, \"time_start\": 75.001, \"id\": 17, \"activity\": \"(move-up-slow slow0-0 n3 n4)\"}, {\"duration\": 1.0, \"time_start\": 79.001, \"id\": 18, \"activity\": \"(board p2 slow1-0 n4 n1 n2)\"}, {\"duration\": 1.0, \"time_start\": 80.002, \"id\": 19, \"activity\": \"(leave p1 slow1-0 n4 n2 n1)\"}, {\"duration\": 28.0, \"time_start\": 81.002, \"id\": 20, \"activity\": \"(move-up-slow slow1-0 n4 n7)\"}, {\"duration\": 1.0, \"time_start\": 87.001, \"id\": 21, \"activity\": \"(board p1 slow0-0 n4 n1 n2)\"}, {\"duration\": 28.0, \"time_start\": 88.001, \"id\": 22, \"activity\": \"(move-down-slow slow0-0 n4 n1)\"}, {\"duration\": 1.0, \"time_start\": 109.002, \"id\": 23, \"activity\": \"(leave p2 slow1-0 n7 n1 n0)\"}, {\"duration\": 12.0, \"time_start\": 110.002, \"id\": 24, \"activity\": \"(move-up-slow slow1-0 n7 n8)\"}, {\"duration\": 1.0, \"time_start\": 116.001, \"id\": 25, \"activity\": \"(leave p1 slow0-0 n1 n2 n1)\"}, {\"duration\": 0.001, \"time_start\": 117.001, \"id\": 26, \"activity\": \"(collect-goal-passenger-at p5 n5)\"}, {\"duration\": 12.0, \"time_start\": 117.001, \"id\": 27, \"activity\": \"(move-down-slow slow0-0 n1 n0)\"}, {\"duration\": 0.001, \"time_start\": 117.002, \"id\": 28, \"activity\": \"(collect-goal-passenger-at p1 n1)\"}, {\"duration\": 36.0, \"time_start\": 122.003, \"id\": 29, \"activity\": \"(move-down-slow slow1-0 n8 n4)\"}, {\"duration\": 1.0, \"time_start\": 129.001, \"id\": 30, \"activity\": \"(leave p3 slow0-0 n0 n1 n0)\"}, {\"duration\": 0.001, \"time_start\": 130.002, \"id\": 31, \"activity\": \"(collect-goal-passenger-at p3 n0)\"}, {\"duration\": 1.0, \"time_start\": 130.002, \"id\": 32, \"activity\": \"(board p6 slow0-0 n0 n0 n1)\"}, {\"duration\": 0.001, \"time_start\": 130.003, \"id\": 33, \"activity\": \"(collect-goal-passenger-at p2 n7)\"}, {\"duration\": 36.0, \"time_start\": 131.002, \"id\": 34, \"activity\": \"(move-up-slow slow0-0 n0 n4)\"}, {\"duration\": 1.0, \"time_start\": 167.002, \"id\": 35, \"activity\": \"(leave p6 slow0-0 n4 n1 n0)\"}, {\"duration\": 1.0, \"time_start\": 168.003, \"id\": 36, \"activity\": \"(board p6 slow1-0 n4 n0 n1)\"}, {\"duration\": 12.0, \"time_start\": 169.003, \"id\": 37, \"activity\": \"(move-up-slow slow1-0 n4 n5)\"}, {\"duration\": 1.0, \"time_start\": 181.003, \"id\": 38, \"activity\": \"(leave p6 slow1-0 n5 n1 n0)\"}, {\"duration\": 12.0, \"time_start\": 182.003, \"id\": 39, \"activity\": \"(move-up-slow slow1-0 n5 n6)\"}, {\"duration\": 1.0, \"time_start\": 194.003, \"id\": 40, \"activity\": \"(board p4 slow1-0 n6 n0 n1)\"}, {\"duration\": 20.0, \"time_start\": 195.003, \"id\": 41, \"activity\": \"(move-down-slow slow1-0 n6 n4)\"}, {\"duration\": 1.0, \"time_start\": 215.003, \"id\": 42, \"activity\": \"(leave p4 slow1-0 n4 n1 n0)\"}, {\"duration\": 1.0, \"time_start\": 216.004, \"id\": 43, \"activity\": \"(board p4 slow0-0 n4 n0 n1)\"}, {\"duration\": 36.0, \"time_start\": 217.004, \"id\": 44, \"activity\": \"(move-down-slow slow0-0 n4 n0)\"}, {\"duration\": 1.0, \"time_start\": 253.004, \"id\": 45, \"activity\": \"(leave p4 slow0-0 n0 n1 n0)\"}, {\"duration\": 0.001, \"time_start\": 254.004, \"id\": 46, \"activity\": \"(collect-goal-passenger-at p6 n5)\"}, {\"duration\": 20.0, \"time_start\": 254.004, \"id\": 47, \"activity\": \"(move-up-slow slow0-0 n0 n2)\"}, {\"duration\": 0.001, \"time_start\": 254.005, \"id\": 48, \"activity\": \"(collect-goal-passenger-at p4 n0)\"}, {\"duration\": 1.0, \"time_start\": 274.004, \"id\": 49, \"activity\": \"(board p0 slow0-0 n2 n0 n1)\"}, {\"duration\": 20.0, \"time_start\": 275.004, \"id\": 50, \"activity\": \"(move-up-slow slow0-0 n2 n4)\"}, {\"duration\": 1.0, \"time_start\": 295.004, \"id\": 51, \"activity\": \"(leave p0 slow0-0 n4 n1 n0)\"}, {\"duration\": 1.0, \"time_start\": 296.005, \"id\": 52, \"activity\": \"(board p0 slow1-0 n4 n0 n1)\"}, {\"duration\": 36.0, \"time_start\": 297.005, \"id\": 53, \"activity\": \"(move-up-slow slow1-0 n4 n8)\"}, {\"duration\": 1.0, \"time_start\": 333.005, \"id\": 54, \"activity\": \"(leave p0 slow1-0 n8 n1 n0)\"}, {\"duration\": 0.001, \"time_start\": 334.006, \"id\": 55, \"activity\": \"(collect-goal-passenger-at p0 n8)\"}]"
   ]
  },
  {
   "cell_type": "markdown",
   "metadata": {},
   "source": [
    "Great job! Mr.Duck is so impressed that he is thinking about coming back play golf in the club inside the building the next day with even more constraints.\n",
    "\n",
    "> \"Mr.Duck (`p0`) realizes that Daisy Duck (`p1`) is in a hurry so, to build a good impression, he requests that he arrives at the golf club (`n8`) **sometime after** Mrs.Duck arrives at her destination. \n",
    "Further, his nephews, Huey(`p3`) and Dewey(`p4`) would also be in the building. Dewey would like to be at his destination **right after** his brother, Huey, because he does not like waiting and he does not want his brother to wait for a long time.\"\n",
    "\n",
    "Again, each passenger's destination in this scenario is identical to the one in the original problem and you want to minimize the total-cost while satisfying all the requests.\n",
    "\n",
    "<br/>\n",
    "<div class=\"alert alert-info\">\n",
    "Modify the **goal description** of the _original_ problem to satisfies all the preceding constraints.\n",
    "</div>"
   ]
  },
  {
   "cell_type": "code",
   "execution_count": 18,
   "metadata": {
    "collapsed": true
   },
   "outputs": [],
   "source": [
    "# YOUR PLAN HERE\n",
    "activities = []\n",
    "solution = [{\"duration\": 1.0, \"time_start\": 0.0, \"id\": 0, \"activity\": \"(board p0 fast0 n2 n0 n1)\"}, {\"duration\": 11.0, \"time_start\": 0.0, \"id\": 1, \"activity\": \"(move-down-fast fast1 n2 n0)\"}, {\"duration\": 12.0, \"time_start\": 0.0, \"id\": 2, \"activity\": \"(move-down-slow slow1-0 n7 n6)\"}, {\"duration\": 12.0, \"time_start\": 0.0, \"id\": 3, \"activity\": \"(move-up-slow slow0-0 n0 n1)\"}, {\"duration\": 15.0, \"time_start\": 1.0, \"id\": 4, \"activity\": \"(move-up-fast fast0 n2 n8)\"}, {\"duration\": 1.0, \"time_start\": 11.0, \"id\": 5, \"activity\": \"(board p6 fast1 n0 n0 n1)\"}, {\"duration\": 1.0, \"time_start\": 12.0, \"id\": 6, \"activity\": \"(board p5 slow1-0 n6 n0 n1)\"}, {\"duration\": 1.0, \"time_start\": 12.0, \"id\": 7, \"activity\": \"(board p2 slow0-0 n1 n0 n1)\"}, {\"duration\": 1.0, \"time_start\": 12.002, \"id\": 8, \"activity\": \"(leave p6 fast1 n0 n1 n0)\"}, {\"duration\": 12.0, \"time_start\": 13.0, \"id\": 9, \"activity\": \"(move-down-slow slow1-0 n6 n5)\"}, {\"duration\": 12.0, \"time_start\": 13.0, \"id\": 10, \"activity\": \"(move-down-slow slow0-0 n1 n0)\"}, {\"duration\": 1.0, \"time_start\": 16.0, \"id\": 11, \"activity\": \"(leave p0 fast0 n8 n1 n0)\"}, {\"duration\": 17.0, \"time_start\": 17.0, \"id\": 12, \"activity\": \"(move-down-fast fast0 n8 n0)\"}, {\"duration\": 1.0, \"time_start\": 25.0, \"id\": 13, \"activity\": \"(leave p2 slow0-0 n0 n1 n0)\"}, {\"duration\": 12.0, \"time_start\": 25.001, \"id\": 14, \"activity\": \"(move-up-slow slow1-0 n5 n6)\"}, {\"duration\": 36.0, \"time_start\": 26.0, \"id\": 15, \"activity\": \"(move-up-slow slow0-0 n0 n4)\"}, {\"duration\": 1.0, \"time_start\": 26.001, \"id\": 16, \"activity\": \"(board p2 fast1 n0 n0 n1)\"}, {\"duration\": 1.0, \"time_start\": 27.002, \"id\": 17, \"activity\": \"(board p6 fast1 n0 n1 n2)\"}, {\"duration\": 15.0, \"time_start\": 28.002, \"id\": 18, \"activity\": \"(move-up-fast fast1 n0 n6)\"}, {\"duration\": 15.0, \"time_start\": 34.001, \"id\": 19, \"activity\": \"(move-up-fast fast0 n0 n6)\"}, {\"duration\": 12.0, \"time_start\": 37.002, \"id\": 20, \"activity\": \"(move-down-slow slow1-0 n6 n5)\"}, {\"duration\": 1.0, \"time_start\": 43.002, \"id\": 21, \"activity\": \"(leave p6 fast1 n6 n2 n1)\"}, {\"duration\": 1.0, \"time_start\": 44.003, \"id\": 22, \"activity\": \"(leave p2 fast1 n6 n1 n0)\"}, {\"duration\": 1.0, \"time_start\": 45.004, \"id\": 23, \"activity\": \"(board p4 fast1 n6 n0 n1)\"}, {\"duration\": 15.0, \"time_start\": 46.004, \"id\": 24, \"activity\": \"(move-down-fast fast1 n6 n0)\"}, {\"duration\": 1.0, \"time_start\": 49.001, \"id\": 25, \"activity\": \"(board p1 fast0 n6 n0 n1)\"}, {\"duration\": 1.0, \"time_start\": 49.002, \"id\": 26, \"activity\": \"(leave p5 slow1-0 n5 n1 n0)\"}, {\"duration\": 11.0, \"time_start\": 50.001, \"id\": 27, \"activity\": \"(move-down-fast fast0 n6 n4)\"}, {\"duration\": 12.0, \"time_start\": 50.002, \"id\": 28, \"activity\": \"(move-up-slow slow1-0 n5 n6)\"}, {\"duration\": 1.0, \"time_start\": 61.001, \"id\": 29, \"activity\": \"(leave p1 fast0 n4 n1 n0)\"}, {\"duration\": 1.0, \"time_start\": 61.004, \"id\": 30, \"activity\": \"(leave p4 fast1 n0 n1 n0)\"}, {\"duration\": 1.0, \"time_start\": 62.002, \"id\": 31, \"activity\": \"(board p6 slow1-0 n6 n0 n1)\"}, {\"duration\": 1.0, \"time_start\": 62.002, \"id\": 32, \"activity\": \"(board p1 slow0-0 n4 n0 n1)\"}, {\"duration\": 28.0, \"time_start\": 63.002, \"id\": 33, \"activity\": \"(move-down-slow slow0-0 n4 n1)\"}, {\"duration\": 1.0, \"time_start\": 63.003, \"id\": 34, \"activity\": \"(board p2 slow1-0 n6 n1 n2)\"}, {\"duration\": 12.0, \"time_start\": 64.003, \"id\": 35, \"activity\": \"(move-down-slow slow1-0 n6 n5)\"}, {\"duration\": 1.0, \"time_start\": 76.003, \"id\": 36, \"activity\": \"(leave p6 slow1-0 n5 n2 n1)\"}, {\"duration\": 0.001, \"time_start\": 77.003, \"id\": 37, \"activity\": \"(collect-goal-passenger-at p5 n5)\"}, {\"duration\": 20.0, \"time_start\": 77.003, \"id\": 38, \"activity\": \"(move-up-slow slow1-0 n5 n7)\"}, {\"duration\": 0.001, \"time_start\": 77.004, \"id\": 39, \"activity\": \"(collect-goal-passenger-at p6 n5)\"}, {\"duration\": 20.0, \"time_start\": 91.003, \"id\": 40, \"activity\": \"(move-up-slow slow0-0 n1 n3)\"}, {\"duration\": 1.0, \"time_start\": 97.003, \"id\": 41, \"activity\": \"(leave p2 slow1-0 n7 n1 n0)\"}, {\"duration\": 1.0, \"time_start\": 111.003, \"id\": 42, \"activity\": \"(board p3 slow0-0 n3 n1 n2)\"}, {\"duration\": 20.0, \"time_start\": 112.003, \"id\": 43, \"activity\": \"(move-down-slow slow0-0 n3 n1)\"}, {\"duration\": 1.0, \"time_start\": 132.003, \"id\": 44, \"activity\": \"(leave p1 slow0-0 n1 n2 n1)\"}, {\"duration\": 0.001, \"time_start\": 133.003, \"id\": 45, \"activity\": \"(collect-goal-passenger-at p2 n7)\"}, {\"duration\": 12.0, \"time_start\": 133.003, \"id\": 46, \"activity\": \"(move-down-slow slow0-0 n1 n0)\"}, {\"duration\": 0.001, \"time_start\": 133.004, \"id\": 47, \"activity\": \"(collect-goal-passenger-at p1 n1)\"}, {\"duration\": 0.001, \"time_start\": 133.005, \"id\": 48, \"activity\": \"(collect-goal-passenger-at p0 n8)\"}, {\"duration\": 0.001, \"time_start\": 133.006, \"id\": 49, \"activity\": \"(collect-goal-sometime p0 n8 p1 n1)\"}, {\"duration\": 1.0, \"time_start\": 145.003, \"id\": 50, \"activity\": \"(leave p3 slow0-0 n0 n1 n0)\"}, {\"duration\": 0.001, \"time_start\": 146.004, \"id\": 51, \"activity\": \"(collect-goal-passenger-at p3 n0)\"}, {\"duration\": 0.001, \"time_start\": 146.005, \"id\": 52, \"activity\": \"(collect-goal-passenger-at p4 n0)\"}, {\"duration\": 0.001, \"time_start\": 146.006, \"id\": 53, \"activity\": \"(collect-goal-next p4 n0 p3 n0)\"}]"
   ]
  },
  {
   "cell_type": "markdown",
   "metadata": {
    "collapsed": true
   },
   "source": [
    "## Elevator Problem Revisited <a id=\"elevator-example\"/>\n",
    "\n",
    "Now, you are ready to implement another elevator scenario with additional complexity. Please take a look at and try to understand the implementation of the provided elevator example that supports temporal constraints.\n",
    "\n",
    "Scenario:\n",
    "> Suppose that the elevators can be exhausted after a certain number of _durative actions_ they take. Whenever an elevator performs a durative action (`move-up`,`move-down`, `board`, `leave`, except for `recharge`), its energy decrements by one. Once its energy reaches zero, it has to stop and recharge for one time unit `(= ?duration 1.0)` to fully restore to its full energy level, which is 4.0 for all elevators. However, it can also stop and recharge at anypoint before it is exhausted\"\n",
    "\n",
    "\n",
    "### Constraint Formulation\n",
    "Let's reformulate the problem in LTL predicate\n",
    "> Whenever the energy of an elevator is below the full energy level (4.0), it should be recharging within 3.0 time units (since it can take only 3 more actions) and remain recharged there until its energy is fully restored:\n",
    "\n",
    "$r = $ `(recharge ?elevator)` - true when the elevator is being recharged<br/>\n",
    "$f = $ `(full-energy ?elevator)` - true when the elevator has full energy<br/>\n",
    "$l = $ `(energy-level ?elevator < 4.0)` - true when the energy of the elevator is below the full energy level (4.0)\n",
    "\n",
    "$$G(r U f) \\land G((l \\land r)\\lor(l \\land Xr)\\lor(l \\land XXr)\\lor(l \\land XXXr))$$\n",
    "\n",
    "With PDDL 3.0, we can express the constraints as following<br/>\n",
    "`(:constraints \n",
    "  (and \n",
    "    (always-until (recharge ?elevator) (full-energy ?elevator))\n",
    "    (always-within 3.0 (< (energy-level ?elevator) 4.0) (recharge ?elevator))))`\n",
    "    \n",
    "<br/>\n",
    "<div class=\"alert alert-info\">\n",
    "Modify the domain and problem file of the elevator problem given in the example folder to implement the preceding constraint. Submit the modified PDDL file along with this ipython notebook.\n",
    "(`:goal` clause should contain only `(collected-goal-passenger-at ?a - passenger ?b - count)` clauses)\n",
    "</div>"
   ]
  },
  {
   "cell_type": "code",
   "execution_count": null,
   "metadata": {
    "collapsed": true
   },
   "outputs": [],
   "source": []
  },
  {
   "cell_type": "markdown",
   "metadata": {},
   "source": [
    "### References for Images:\n",
    "\n",
    "\n",
    "References for images: https://www.google.com/search?q=cute+puppies&client=ubuntu&hs=6nW&channel=fs&biw=1182&bih=565&tbm=isch&tbo=u&source=univ&sa=X&ved=0ahUKEwjj1P-P5rHMAhXMeD4KHea6DSoQsAQIGw#channel=fs&tbm=isch&q=dog+running+snow&imgrc=XiA4f8leDEOiQM%3A\n",
    " and https://www.google.com/search?q=cute+puppies&client=ubuntu&hs=6nW&channel=fs&biw=1182&bih=565&tbm=isch&tbo=u&source=univ&sa=X&ved=0ahUKEwjj1P-P5rHMAhXMeD4KHea6DSoQsAQIGw#channel=fs&tbm=isch&q=puppies+cute&imgrc=vcBpl3-Hi9ohCM%3A"
   ]
  }
 ],
 "metadata": {
  "celltoolbar": "Raw Cell Format",
  "kernelspec": {
   "display_name": "Python 2",
   "language": "python",
   "name": "python2"
  },
  "language_info": {
   "codemirror_mode": {
    "name": "ipython",
    "version": 2
   },
   "file_extension": ".py",
   "mimetype": "text/x-python",
   "name": "python",
   "nbconvert_exporter": "python",
   "pygments_lexer": "ipython2",
   "version": "2.7.6"
  }
 },
 "nbformat": 4,
 "nbformat_minor": 0
}
